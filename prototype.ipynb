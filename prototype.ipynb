{
 "cells": [
  {
   "cell_type": "markdown",
   "source": [
    "# Load App Secrets\n",
    "\n",
    "You should have file `.env` in the root folder with the following environmental variables set:\n",
    "\n",
    "```\n",
    "REDDIT_USERNAME=\n",
    "REDDIT_PASSWORD=\n",
    "REDDIT_APP_NAME=\n",
    "REDDIT_APP_ID=\n",
    "REDDIT_APP_SECRET=\n",
    "```\n"
   ],
   "metadata": {}
  },
  {
   "cell_type": "code",
   "execution_count": 13,
   "source": [
    "import os\n",
    "from dotenv import load_dotenv\n",
    "\n",
    "dotenv_path = '.env'\n",
    "if os.path.exists(dotenv_path):\n",
    "    load_dotenv(dotenv_path)\n",
    "\n",
    "username = os.environ.get('REDDIT_USERNAME')\n",
    "password = os.environ.get('REDDIT_PASSWORD')\n",
    "app_name = os.environ.get('REDDIT_APP_NAME')\n",
    "app_id = os.environ.get('REDDIT_APP_ID')\n",
    "app_secret = os.environ.get('REDDIT_APP_SECRET')\n"
   ],
   "outputs": [],
   "metadata": {}
  },
  {
   "cell_type": "markdown",
   "source": [
    "# Access Token\n",
    "\n",
    "Note: It is very important to specify header with `user-agent`, otherwise you will get `Too many requests` error."
   ],
   "metadata": {}
  },
  {
   "cell_type": "code",
   "execution_count": 14,
   "source": [
    "import requests\n",
    "\n",
    "reddit_base_url = 'https://www.reddit.com'\n",
    "reddit_api_url = 'https://oauth.reddit.com'\n",
    "\n",
    "data = {\n",
    "    'grant_type': 'password',\n",
    "    'username': username,\n",
    "    'password': password\n",
    "}\n",
    "\n",
    "req = requests.post(\n",
    "    f'{reddit_base_url}/api/v1/access_token',\n",
    "    data=data,\n",
    "    headers={'user-agent': f'{app_name} by {username}'},\n",
    "    auth=requests.auth.HTTPBasicAuth(app_id, app_secret)\n",
    ")\n",
    "\n",
    "res = req.json()\n",
    "print(res)"
   ],
   "outputs": [
    {
     "output_type": "stream",
     "name": "stdout",
     "text": [
      "{'access_token': '703345449302-BwkAdIzkQUthjkDkAtMrFr_sQtfNYA', 'token_type': 'bearer', 'expires_in': 3600, 'scope': '*'}\n"
     ]
    }
   ],
   "metadata": {}
  },
  {
   "cell_type": "code",
   "execution_count": 26,
   "source": [
    "migraine_subreddit_url = 'https://www.reddit.com/r/migraine'\n",
    "migraine_subreddit_name = 'migraine'"
   ],
   "outputs": [],
   "metadata": {}
  },
  {
   "cell_type": "markdown",
   "source": [
    "# Get Listing of New Posts"
   ],
   "metadata": {}
  },
  {
   "cell_type": "code",
   "execution_count": 32,
   "source": [
    "import json\n",
    "\n",
    "req = requests.get(\n",
    "    f'{migraine_subreddit_url}/new/.json?limit=100',\n",
    "    headers={'user-agent': f'{app_name} by {username}'}\n",
    ")\n",
    "data = req.json()\n"
   ],
   "outputs": [],
   "metadata": {}
  },
  {
   "cell_type": "code",
   "execution_count": 43,
   "source": [
    "print('hello')"
   ],
   "outputs": [
    {
     "output_type": "stream",
     "name": "stdout",
     "text": [
      "hello\n"
     ]
    }
   ],
   "metadata": {}
  }
 ],
 "metadata": {
  "orig_nbformat": 4,
  "language_info": {
   "name": "python",
   "version": "3.9.0",
   "mimetype": "text/x-python",
   "codemirror_mode": {
    "name": "ipython",
    "version": 3
   },
   "pygments_lexer": "ipython3",
   "nbconvert_exporter": "python",
   "file_extension": ".py"
  },
  "kernelspec": {
   "name": "python3",
   "display_name": "Python 3.9.0 64-bit ('migraine-data-reddit-WM5Df_6q-py3.9': poetry)"
  },
  "interpreter": {
   "hash": "e2aeec2cf51c918189e26105d0d6d1405249743e1be845e15e5a859002a67bef"
  }
 },
 "nbformat": 4,
 "nbformat_minor": 2
}