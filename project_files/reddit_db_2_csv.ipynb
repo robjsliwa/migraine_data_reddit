{
 "cells": [
  {
   "cell_type": "markdown",
   "metadata": {},
   "source": [
    "# Store Reddis Posts in CSV Format\n",
    "\n",
    "Because we will need to merge multiple sources like Reddis and migraine.com we decided to use CSV files as our intermediate format so we can easily concatenate them and then load them into memory with Pandas.\n",
    "\n",
    "The purpose of this notebook is to retrieve only the relevant fields of Reddis posts from MongoDB and store them in CSV file.\n",
    "\n",
    "The desired format of this file will be:\n",
    "\n",
    "| Type | Parent | Author | Text | Title | Tags | Webpage |\n",
    "| ---- | ------ | ------ | ---- | ----- | ---- | ------- |\n",
    "| P/C  |   id   | userid | text | text  | text |   url   |\n",
    "\n",
    "- Type - P for post or C for comment\n",
    "- Parent - own id for post or value of `parent_id` in comment structure without `t3_` prefix\n",
    "- Author - userid\n",
    "- Text - for posts value from `selftext` and for comment value from `body`\n",
    "- Title - title of the post\n",
    "- Tags - used by migraine.com so this field is empty for Reddis\n",
    "- Webpage - used by migraine.com so this field is empty for Reddis"
   ]
  },
  {
   "cell_type": "code",
   "execution_count": 6,
   "metadata": {},
   "outputs": [],
   "source": [
    "import csv\n",
    "from tqdm import tqdm\n",
    "from pymongo import MongoClient"
   ]
  },
  {
   "cell_type": "code",
   "execution_count": 7,
   "metadata": {},
   "outputs": [],
   "source": [
    "database_name = 'reddit-migraine'\n",
    "\n",
    "client = MongoClient('mongodb://localhost:37017')\n",
    "db = client[database_name]"
   ]
  },
  {
   "cell_type": "code",
   "execution_count": 8,
   "metadata": {},
   "outputs": [],
   "source": [
    "migraine_file_name = 'reddis_migraine_posts.csv'"
   ]
  },
  {
   "cell_type": "code",
   "execution_count": 12,
   "metadata": {},
   "outputs": [],
   "source": [
    "def process_comments(comments, title, parent_id):\n",
    "    return [{\n",
    "            'Type': 'C',\n",
    "            'Parent': parent_id,\n",
    "            'Author': comment['author'],\n",
    "            'Text': comment['body'],\n",
    "            'Title': title\n",
    "            } for comment in comments]\n",
    "        \n",
    "\n",
    "def process_post(post):\n",
    "    entries = [{\n",
    "        'Type': 'P',\n",
    "        'Parent': post['id'],\n",
    "        'Author': post['author'],\n",
    "        'Text': post.get('selftext', ''),\n",
    "        'Title': post['title'],\n",
    "        'Tags': None,\n",
    "        'Webpage': None\n",
    "    }]\n",
    "    entries.extend(process_comments(\n",
    "        post['comments'],\n",
    "        post['title'],\n",
    "        post['id']))\n",
    "    return entries"
   ]
  },
  {
   "cell_type": "code",
   "execution_count": 14,
   "metadata": {},
   "outputs": [
    {
     "name": "stderr",
     "output_type": "stream",
     "text": [
      "Progress: 100%|██████████| 42878/42878 [00:11<00:00, 3659.82it/s] \n"
     ]
    }
   ],
   "source": [
    "created_header = False\n",
    "posts_count = db['posts'].count_documents({})\n",
    "with tqdm(total=posts_count, desc=\"Progress\") as pbar:\n",
    "    with open(f'data/{migraine_file_name}', 'w') as posts_file:\n",
    "        field_names = ['Type', 'Parent', 'Author', 'Text', 'Title', 'Tags', 'Webpage']\n",
    "        csv_writer = csv.DictWriter(posts_file, fieldnames=field_names)\n",
    "        for post in db['posts'].find():\n",
    "            entries = process_post(post)\n",
    "            if not created_header and len(entries) > 0:\n",
    "                csv_writer.writeheader()\n",
    "                created_header = True\n",
    "            for entry in entries:\n",
    "                csv_writer.writerow(entry)\n",
    "            pbar.update(1)\n"
   ]
  }
 ],
 "metadata": {
  "interpreter": {
   "hash": "043ded0200596b90969cdaf78db8cc3255494a426d99ef977fa69e36f146e9e2"
  },
  "kernelspec": {
   "display_name": "Python 3.9.0 64-bit ('migraine-data-reddit-WM5Df_6q-py3.9': poetry)",
   "language": "python",
   "name": "python3"
  },
  "language_info": {
   "codemirror_mode": {
    "name": "ipython",
    "version": 3
   },
   "file_extension": ".py",
   "mimetype": "text/x-python",
   "name": "python",
   "nbconvert_exporter": "python",
   "pygments_lexer": "ipython3",
   "version": "3.9.0"
  },
  "orig_nbformat": 4
 },
 "nbformat": 4,
 "nbformat_minor": 2
}
