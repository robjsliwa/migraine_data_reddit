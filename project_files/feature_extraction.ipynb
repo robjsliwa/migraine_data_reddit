{
 "cells": [
  {
   "cell_type": "markdown",
   "metadata": {},
   "source": [
    "# Feature Extraction\n",
    "\n",
    "The purpose of this notebook is to show how and the process of extracting each feature form texts of posts in Reddis and migraine.com\n",
    "\n",
    "Based on the work done for the [project proposal](./group_11_proposal.ipynb) we identified following features to extract:\n",
    "\n",
    "- Age\n",
    "- Gender\n",
    "- Medicine use and dosage\n",
    "- Suicidal thoughts\n",
    "- Migraine triggers\n",
    "- Presence of aura\n",
    "- Trouble with sleeping\n",
    "- ADHD\n",
    "\n",
    "In the rest of this notebook we show the process of getting each feature out and constructing the code."
   ]
  },
  {
   "cell_type": "code",
   "execution_count": 1,
   "metadata": {},
   "outputs": [],
   "source": [
    "import pandas as pd\n"
   ]
  },
  {
   "cell_type": "code",
   "execution_count": 2,
   "metadata": {},
   "outputs": [],
   "source": [
    "reddis_data_filename = 'reddis_migraine_posts.csv'"
   ]
  },
  {
   "cell_type": "code",
   "execution_count": 3,
   "metadata": {},
   "outputs": [],
   "source": [
    "def read_reddis_data(filename):\n",
    "    df = pd.read_csv(f'data/{filename}', header=0)\n",
    "    return df"
   ]
  },
  {
   "cell_type": "code",
   "execution_count": 4,
   "metadata": {},
   "outputs": [],
   "source": [
    "posts_and_commnets = read_reddis_data(reddis_data_filename)"
   ]
  },
  {
   "cell_type": "code",
   "execution_count": 5,
   "metadata": {},
   "outputs": [
    {
     "data": {
      "text/html": [
       "<div>\n",
       "<style scoped>\n",
       "    .dataframe tbody tr th:only-of-type {\n",
       "        vertical-align: middle;\n",
       "    }\n",
       "\n",
       "    .dataframe tbody tr th {\n",
       "        vertical-align: top;\n",
       "    }\n",
       "\n",
       "    .dataframe thead th {\n",
       "        text-align: right;\n",
       "    }\n",
       "</style>\n",
       "<table border=\"1\" class=\"dataframe\">\n",
       "  <thead>\n",
       "    <tr style=\"text-align: right;\">\n",
       "      <th></th>\n",
       "      <th>Type</th>\n",
       "      <th>Parent</th>\n",
       "      <th>Author</th>\n",
       "      <th>Text</th>\n",
       "      <th>Title</th>\n",
       "      <th>Tags</th>\n",
       "      <th>Webpage</th>\n",
       "    </tr>\n",
       "  </thead>\n",
       "  <tbody>\n",
       "    <tr>\n",
       "      <th>0</th>\n",
       "      <td>P</td>\n",
       "      <td>q1pdf8</td>\n",
       "      <td>Conscious_Escape_408</td>\n",
       "      <td>I've been awake the entire night with the wors...</td>\n",
       "      <td>Worst I've ever had/calling in sick</td>\n",
       "      <td>NaN</td>\n",
       "      <td>NaN</td>\n",
       "    </tr>\n",
       "    <tr>\n",
       "      <th>1</th>\n",
       "      <td>P</td>\n",
       "      <td>q1p2lt</td>\n",
       "      <td>Sia-King</td>\n",
       "      <td>Hey y’all, I got a referral for a neurologist ...</td>\n",
       "      <td>What preventative to trial next? (Asthmatic &amp;a...</td>\n",
       "      <td>NaN</td>\n",
       "      <td>NaN</td>\n",
       "    </tr>\n",
       "    <tr>\n",
       "      <th>2</th>\n",
       "      <td>P</td>\n",
       "      <td>q1otox</td>\n",
       "      <td>netluv</td>\n",
       "      <td>It’s day two night two of a migraine. I’ve max...</td>\n",
       "      <td>Pain</td>\n",
       "      <td>NaN</td>\n",
       "      <td>NaN</td>\n",
       "    </tr>\n",
       "    <tr>\n",
       "      <th>3</th>\n",
       "      <td>P</td>\n",
       "      <td>q1odf7</td>\n",
       "      <td>Dazee80</td>\n",
       "      <td>I am in a fucked position. I have had migraine...</td>\n",
       "      <td>Pain vs Relationship</td>\n",
       "      <td>NaN</td>\n",
       "      <td>NaN</td>\n",
       "    </tr>\n",
       "    <tr>\n",
       "      <th>4</th>\n",
       "      <td>P</td>\n",
       "      <td>q1o71m</td>\n",
       "      <td>danawl</td>\n",
       "      <td>NaN</td>\n",
       "      <td>Reminder: Birth Control With Estrogen Causes I...</td>\n",
       "      <td>NaN</td>\n",
       "      <td>NaN</td>\n",
       "    </tr>\n",
       "  </tbody>\n",
       "</table>\n",
       "</div>"
      ],
      "text/plain": [
       "  Type  Parent                Author  \\\n",
       "0    P  q1pdf8  Conscious_Escape_408   \n",
       "1    P  q1p2lt              Sia-King   \n",
       "2    P  q1otox                netluv   \n",
       "3    P  q1odf7               Dazee80   \n",
       "4    P  q1o71m                danawl   \n",
       "\n",
       "                                                Text  \\\n",
       "0  I've been awake the entire night with the wors...   \n",
       "1  Hey y’all, I got a referral for a neurologist ...   \n",
       "2  It’s day two night two of a migraine. I’ve max...   \n",
       "3  I am in a fucked position. I have had migraine...   \n",
       "4                                                NaN   \n",
       "\n",
       "                                               Title  Tags  Webpage  \n",
       "0                Worst I've ever had/calling in sick   NaN      NaN  \n",
       "1  What preventative to trial next? (Asthmatic &a...   NaN      NaN  \n",
       "2                                               Pain   NaN      NaN  \n",
       "3                               Pain vs Relationship   NaN      NaN  \n",
       "4  Reminder: Birth Control With Estrogen Causes I...   NaN      NaN  "
      ]
     },
     "execution_count": 5,
     "metadata": {},
     "output_type": "execute_result"
    }
   ],
   "source": [
    "posts_and_commnets[:5]"
   ]
  },
  {
   "cell_type": "markdown",
   "metadata": {},
   "source": [
    "# Feature Extraction Approach\n",
    "\n",
    "Different features needed somewhat different approach to retrieving them from the posts and comments.  However, there is general workflow that we used for working on all of the features.  \n",
    "\n",
    "The nature of the data is that authors write in multiple posts and comments.  The main goal is to scan through these posts and identify features for each author.  Different features can come from author's different posts.  For example, in one post author can be speaking about something that identifies their gender and in another post about something that identifies their age.\n",
    "\n",
    "To capture all the features we create index where author is the key and value is a dictionary of the features.\n",
    "\n",
    "Workflow:\n",
    "\n",
    "- Find sentences that describe feature we are looking for.  We do this by first identifying some keyword and filtering posts by that keyword and than taking random sample from that list.\n",
    "- Once the list of sample sentences that represent feature is created, we build set of regex expression to identify all of the language patterns that the feature can be expressed with.\n",
    "- With both sample sentences and regex expressions we build function that can identify the feature given text.  To ensure that the function works correctly we create unittest and use sample sentences as input for the unittest.  This saves us time from debugging later on large dataset.\n",
    "- Finally, we run feature extracting function again entire dataset and update author index with found features."
   ]
  }
 ],
 "metadata": {
  "interpreter": {
   "hash": "043ded0200596b90969cdaf78db8cc3255494a426d99ef977fa69e36f146e9e2"
  },
  "kernelspec": {
   "display_name": "Python 3.9.0 64-bit ('migraine-data-reddit-WM5Df_6q-py3.9': poetry)",
   "language": "python",
   "name": "python3"
  },
  "language_info": {
   "codemirror_mode": {
    "name": "ipython",
    "version": 3
   },
   "file_extension": ".py",
   "mimetype": "text/x-python",
   "name": "python",
   "nbconvert_exporter": "python",
   "pygments_lexer": "ipython3",
   "version": "3.9.0"
  },
  "orig_nbformat": 4
 },
 "nbformat": 4,
 "nbformat_minor": 2
}
