{
 "cells": [
  {
   "cell_type": "markdown",
   "source": [
    "# Store Reddis Posts\n",
    "\n",
    "This notebook iterates through Reddis posts for the given subreddit and stores posts in mongodb.\n",
    "\n",
    "For each posts it calls another API to get comments and stores those as embedded array."
   ],
   "metadata": {}
  },
  {
   "cell_type": "code",
   "execution_count": 25,
   "source": [
    "import requests\n",
    "import time\n",
    "import pprint\n",
    "from pymongo import MongoClient"
   ],
   "outputs": [],
   "metadata": {}
  },
  {
   "cell_type": "markdown",
   "source": [
    "# Connect to Database\n",
    "\n",
    "- Make sure you started mongodb with `docker-compose up -d`\n",
    "- mongodb running in the container is exposed on port 37017 to prevent confusion in case you already have mongo installed on your system and running on default port 27017."
   ],
   "metadata": {}
  },
  {
   "cell_type": "code",
   "execution_count": 26,
   "source": [
    "database_name = 'reddit-migraine'\n",
    "\n",
    "client = MongoClient('mongodb://localhost:37017')\n",
    "db = client[database_name]"
   ],
   "outputs": [],
   "metadata": {}
  },
  {
   "cell_type": "markdown",
   "source": [
    "# Create Indexes\n",
    "\n",
    "We need to create indexes on the fields below so we can quickly access data when it grows big.\n"
   ],
   "metadata": {}
  },
  {
   "cell_type": "code",
   "execution_count": 27,
   "source": [
    "posts_collection = 'posts'\n",
    "\n",
    "db[posts_collection].create_index('id', unique=True)\n",
    "db[posts_collection].create_index('selftext', unique=False)\n",
    "db[posts_collection].create_index('title', unique=False)\n",
    "db[posts_collection].create_index('author', unique=False)"
   ],
   "outputs": [
    {
     "output_type": "execute_result",
     "data": {
      "text/plain": [
       "'author_1'"
      ]
     },
     "metadata": {},
     "execution_count": 27
    }
   ],
   "metadata": {}
  },
  {
   "cell_type": "markdown",
   "source": [
    "# Helper Methods\n",
    "\n",
    "These methods access Reddit posts and comments from pushshift.io server."
   ],
   "metadata": {}
  },
  {
   "cell_type": "code",
   "execution_count": 28,
   "source": [
    "def get_posts(pushshift_url, subreddit_name, before_time, max_size=100):\n",
    "    should_retry = True\n",
    "    while should_retry:\n",
    "        try:\n",
    "            req = requests.get(f'{pushshift_url}/?subreddit={subreddit_name}&sort=desc&sort_type=created_utc&before={before_time}&size={max_entries}')\n",
    "            output = req.json()\n",
    "            should_retry = False\n",
    "        except:\n",
    "            print(f'retrying post...')\n",
    "            time.sleep(5)\n",
    "            should_retry = True\n",
    "    return output\n",
    "\n",
    "def get_comments(pushshift_url, comment_id, max_size=100):\n",
    "    should_retry = True\n",
    "    while should_retry:\n",
    "        try:\n",
    "            req = requests.get(f'{pushshift_url}/?link_id={comment_id}&limit={max_size}')\n",
    "            output = req.json()\n",
    "            should_retry = False\n",
    "        except:\n",
    "            print(f'retrying comment {comment_id}...')\n",
    "            time.sleep(5)\n",
    "            should_retry = True\n",
    "    return output"
   ],
   "outputs": [],
   "metadata": {}
  },
  {
   "cell_type": "markdown",
   "source": [
    "# URLs and so on\n",
    "\n",
    "Define needed constants."
   ],
   "metadata": {}
  },
  {
   "cell_type": "code",
   "execution_count": 29,
   "source": [
    "pushshift_post_url = 'https://api.pushshift.io/reddit/search/submission'\n",
    "pushshift_comment_url = 'https://api.pushshift.io/reddit/comment/search'\n",
    "subreddit_name = 'migraine'\n",
    "max_entries = 10"
   ],
   "outputs": [],
   "metadata": {}
  },
  {
   "cell_type": "markdown",
   "source": [
    "# Get Posts\n",
    "\n",
    "Get posts and comments associated with each post.  For each post store the comments in new field `comments` as a mongodb embedded array.\n"
   ],
   "metadata": {}
  },
  {
   "cell_type": "code",
   "execution_count": null,
   "source": [
    "before_time = int(time.time())  # current epoch time\n",
    "total_posts = 0\n",
    "\n",
    "def get_page_of_posts(before_time):\n",
    "    posts = get_posts(pushshift_post_url, subreddit_name, before_time, max_entries)\n",
    "    data = posts.get('data', [])\n",
    "\n",
    "    for entry in data:\n",
    "        comment_id = entry['id']\n",
    "        # print(f'comment id: {comment_id}')\n",
    "        comments = get_comments(pushshift_comment_url, comment_id)\n",
    "        entry['comments'] = comments['data']\n",
    "        time.sleep(1)\n",
    "    return data\n",
    "\n",
    "# try:\n",
    "for _ in range(1000):\n",
    "    posts = get_page_of_posts(before_time)\n",
    "    for post in posts:\n",
    "        db['posts'].insert_one(post)\n",
    "    total_posts += len(posts)\n",
    "    print(f'Inserted {len(posts)} posts... Total posts so far: {total_posts}')\n",
    "    print(f'Last before time: {before_time}')\n",
    "    before_time = posts[len(posts) - 1]['created_utc']\n",
    "    print(f'Next before time: {before_time}')\n",
    "    time.sleep(1)\n",
    "# except Exception as e:\n",
    "#     print(f'ERROR - {e}')\n",
    "#     print(f'Last before_time: {before_time}')\n",
    "\n",
    "print(f'Done.  Total new posts: {total_posts}')"
   ],
   "outputs": [],
   "metadata": {}
  },
  {
   "cell_type": "markdown",
   "source": [
    "# About the Run Above\n",
    "\n",
    "- Inserted 10 posts... Total posts so far: 10000\n",
    "- Last before time: 1610935950\n",
    "- Next before time: 1610921799\n",
    "- Done.  Total new posts: 10000\n"
   ],
   "metadata": {}
  },
  {
   "cell_type": "markdown",
   "source": [
    "# Into CVS Format\n",
    "\n",
    "Next we will take posts and comments and transform them into CVS format.\n",
    "\n",
    "The desired format of this file will be:\n",
    "\n",
    "| Type | Parent | Author | Text | Title |\n",
    "| ---- | ------ | ------ | ---- | ----- |\n",
    "| P/C  |   id   | userid | text | text  |\n",
    "\n",
    "- Type - P for post or C for comment\n",
    "- Parent - own id for post or value of `parent_id` in comment structure without `t3_` prefix\n",
    "- Author - userid\n",
    "- Text - for posts value from `selftext` and for comment value from `body`\n",
    "- Title - title of the post\n",
    "\n"
   ],
   "metadata": {}
  },
  {
   "cell_type": "code",
   "execution_count": 39,
   "source": [
    "import csv\n",
    "from tqdm import tqdm"
   ],
   "outputs": [],
   "metadata": {}
  },
  {
   "cell_type": "code",
   "execution_count": 41,
   "source": [
    "migraine_file_name = 'reddis_migraine_posts.csv'"
   ],
   "outputs": [],
   "metadata": {}
  },
  {
   "cell_type": "code",
   "execution_count": 42,
   "source": [
    "def process_comments(comments, title, parent_id):\n",
    "    return [{\n",
    "            'Type': 'C',\n",
    "            'Parent': parent_id,\n",
    "            'Author': comment['author'],\n",
    "            'Text': comment['body'],\n",
    "            'Title': title\n",
    "            } for comment in comments]\n",
    "        \n",
    "\n",
    "def process_post(post):\n",
    "    entries = [{\n",
    "        'Type': 'P',\n",
    "        'Parent': post['id'],\n",
    "        'Author': post['author'],\n",
    "        'Text': post.get('selftext', ''),\n",
    "        'Title': post['title']\n",
    "    }]\n",
    "    entries.extend(process_comments(\n",
    "        post['comments'],\n",
    "        post['title'],\n",
    "        post['id']))\n",
    "    return entries\n",
    "\n",
    "created_header = False\n",
    "posts_count = db['posts'].count_documents({})\n",
    "with tqdm(total=posts_count, desc=\"Progress\") as pbar:\n",
    "    with open(f'data/{migraine_file_name}', 'w') as posts_file:\n",
    "        field_names = ['Type', 'Parent', 'Author', 'Text', 'Title']\n",
    "        csv_writer = csv.DictWriter(posts_file, fieldnames=field_names)\n",
    "        for post in db['posts'].find():\n",
    "            entries = process_post(post)\n",
    "            if not created_header and len(entries) > 0:\n",
    "                csv_writer.writeheader()\n",
    "                created_header = True\n",
    "            for entry in entries:\n",
    "                csv_writer.writerow(entry)\n",
    "                pbar.update(1)\n"
   ],
   "outputs": [
    {
     "output_type": "stream",
     "name": "stderr",
     "text": [
      "Progress: 106818it [00:03, 29117.76it/s]\n"
     ]
    }
   ],
   "metadata": {}
  },
  {
   "cell_type": "markdown",
   "source": [
    "# Topic Modeling\n",
    "\n",
    "This section will attempt to perform topic modeling using [Latent Dirichlet Allocation (LDA)](http://blog.echen.me/2011/08/22/introduction-to-latent-dirichlet-allocation/).  Topic modeling is statistical modeling for discovering the abstract topics that occur in a collection of documents.  It builds a topic per document model and words per topic model, modeled as Dirichlet distributions.\n",
    "\n",
    "References:\n",
    "[Topic Modeling and Latent Dirichlet Allocation (LDA) in Python](https://towardsdatascience.com/topic-modeling-and-latent-dirichlet-allocation-in-python-9bf156893c24)"
   ],
   "metadata": {}
  },
  {
   "cell_type": "markdown",
   "source": [
    "# Read Data\n",
    "\n",
    "Load just `Text` from the migraine posts into a list."
   ],
   "metadata": {}
  },
  {
   "cell_type": "code",
   "execution_count": 62,
   "source": [
    "import numpy as np\n",
    "\n",
    "migraine_texts = []\n",
    "header = []\n",
    "\n",
    "read_header = False\n",
    "with open(f'data/{migraine_file_name}', 'r') as csv_file:\n",
    "    csv_reader = csv.reader(csv_file)\n",
    "    for entry in csv_reader:\n",
    "        if not read_header:\n",
    "            header = entry\n",
    "            read_header = True\n",
    "        else:\n",
    "            migraine_texts.append(entry[header.index('Text')])\n",
    "\n",
    "print(migraine_texts[:10])"
   ],
   "outputs": [
    {
     "output_type": "stream",
     "name": "stdout",
     "text": [
      "[\"I've been awake the entire night with the worst migraine I have ever had. Im a long time sufferer but this one is different. My thinking is more impaired than usual and my blood pressure is 150/111. I need to call out sick from work but I'm so afraid of getting in trouble. I'm afraid to go to hospital emergency room with the number of COVID cases in my area. I don't know what to do.\", 'Hey y’all, I got a referral for a neurologist and while I’m waiting on it, I’ve decided to trial another preventative. I’ve tried Topomax (was on it 2 weeks, couldn’t handle the side effects), currently on Sandomigran (been on it for 19 months, stopped working 9 months in but I continued w it because I didn’t want to accept it wasn’t working 😭 when it did work, it was bloody amazing. While I can increase the dosage for effectiveness, I can barely handle the fatigue it gives). \\n\\nI have asthma and take venlafaxine for depression &amp; anxiety btw. My GP said this means my options are more limited for preventatives. \\n\\nAny suggestions for preventatives?? I’ll check if my GP is happy to prescribe. TIA :))', 'It’s day two night two of a migraine. I’ve maxed out on my Ubrevly and am just angry. I don’t want to go to the hospital because I have underlying health conditions and there’s Covid. Just needing to vent before I try to fall asleep.', 'I am in a fucked position. I have had migraines everyday for last 4 months after playing football and getting a concussion. I am in the process of scans, neurosurgeons and specialists. I’m the one thing I found helped was when a friend of mine sent me some Weed cookies. I had no pain. But next day woke up in pain again. So last week I sourced some weed to help as I am in so much pain and seriously over it. Problem is 6 years ago I went to rehab for drugs and gambling. My boyfriend went through the shit with me And seen me come so far. He is not happy I have weed, but I am not in pain. He is making threats of me having to choose. I don’t know what to do. We have been together 10. years I love him, But I don’t want to be in pain? I know I am going to have to go back to being in pain cause I don’t want to loose my relationship? Help 🥺', '', \"Hi everyone, I'm new here (44f). First I'll say, I have contacted my doctor about this event but curious to hear if this sounds familiar to anyone else.   My doc is referring me to a neurologist, but said it could take months.  He is going to talk over some options in the meantime with me.  I apologize in advance for the incoming wall of text.  \\n\\nAnyhow, I decided to check into some migraine resources after this past weekend.  On Friday, I had a headache that slowly got worse throughout the day and didn't respond to tylenol or Aleve.  By evening, I began throwing up until every little speck was out of my stomach. The headache had become absolutely throbbing and I got pulsatile tinnitus (heartbeat or wooshing like sound) in one of my ears, and the sinus on that same side became really stuffy. I had some dissolving zofran on hand, so I took that and laid very still with my eyes covered until the zofran took effect and I was able to stop vomiting.  I'd say the headache peaked at about a 7-8.  The headache lessened somewhat by Sat morning but I've had it on and off, along with the pulsing tinnitus.  It seems like my headaches and tinnitus are worse when I'm laying down, worse by morning, lessens throughout the day, then starts to creep back in in the evening.  I have been experiencing brain fog and the feeling like I can't think straight and I've been super tired.\\n\\nBefore this happened, I had had one migraine a couple of years ago where I got a terrible headache and like a wavy overlay on my vision.  Last summer, I started experiencing fatigue, terrible brain fog, and memory issues. I would have fatigue flare ups every few weeks for about 8 months.  I started on an antidepressent and it has helped somewhat, although I still experience the symptoms, they are not as bad as they were initially.  Over the past year or so, I have also had frequent headaches that I thought were related to my often stuffy left sinus.  Last March I saw a doctor because I had a period where  I had pulsatile tinnitus for a few weeks, but not like I have had this past few days.  When I saw the doc for the PT before, she had an MRI done on my carotid and that was fine.  She suggested maybe migraines but I completely blew that off. Silly me.\\n\\nDoes this sound like a migraine? More specifically, I'm curious about the pulsatile tinnitus and if it's a recognized aspect of migraines? It really freaked me out.\", 'My brain feels like it’s sloshing inside of my head and hitting parts of my skull as I move 😍 I’m gonna throw up', \"I have always had a very small problem with my hands shaking a little but since my first migraine my hands have begun shaking very bad.\\n\\nA lot of the time I struggle holding things, I'm always dropping my phone, I can spill my drinks while walking matter how slow and stable I try to be and I need to use bigger bowls when I eat \\n\\nIm always having to consider it when buying and using everything\\n\\nDoes anyone else have this problem?\", \"I've been migraine free since March after starting ADHD meds. It's been a dream come true after suffering monthly for 10+ years. Due to some insurance issues, I couldn't make my last visit and get my meds refilled. I've gotten my first migraine in months, and I forgot just how awful it is. I cried and asked to be unalive. The triptan side effects suck. I never wanted to be here again and I can't stop crying. Just needed to rant.\", 'I’m having an incredibly painful migraine right now. It’s not even accompanied with the usual dizziness, nausea and visual issues; but it’s one of the most painful migraines I’ve had in a while. I took some meds a few hours ago and all it did was move to one side of my head, and it’s still just as painful. Is there anything that helps you guys with your migraines when meds and sleep don’t work? I’m 16 and only a few weeks into school and have missed around 5 days already due to my migraines. I really don’t want to miss another day of school because of this']\n"
     ]
    }
   ],
   "metadata": {}
  },
  {
   "cell_type": "markdown",
   "source": [
    "# Data Pre-processing\n",
    "\n",
    "- Tokenization - text is split into sentences and sentences into words.\n",
    "- Remove short words - words 3 character or less are removed.\n",
    "- Stopwords - all stopwords removed.\n",
    "- Lemmatized\n",
    "- Stemmed\n"
   ],
   "metadata": {}
  },
  {
   "cell_type": "code",
   "execution_count": 50,
   "source": [
    "import gensim\n",
    "from gensim.utils import simple_preprocess\n",
    "from gensim.parsing.preprocessing import STOPWORDS\n",
    "from nltk.stem import WordNetLemmatizer, SnowballStemmer\n",
    "from nltk.stem.porter import *\n",
    "\n",
    "import nltk\n",
    "nltk.download('wordnet')"
   ],
   "outputs": [
    {
     "output_type": "stream",
     "name": "stderr",
     "text": [
      "[nltk_data] Downloading package wordnet to /home/robsliwa/nltk_data...\n",
      "[nltk_data]   Package wordnet is already up-to-date!\n"
     ]
    },
    {
     "output_type": "execute_result",
     "data": {
      "text/plain": [
       "True"
      ]
     },
     "metadata": {},
     "execution_count": 50
    }
   ],
   "metadata": {}
  },
  {
   "cell_type": "code",
   "execution_count": 37,
   "source": [
    "def lemmatize_stemming(text):\n",
    "    return stemmer.stem(WordNetLemmatizer().lemmatize(text, pos='v'))\n",
    "\n",
    "def preprocess(text):\n",
    "    return [token for token in simple_preprocess(text) if token not in STOPWORDS and len(token) > 3]"
   ],
   "outputs": [],
   "metadata": {}
  },
  {
   "cell_type": "code",
   "execution_count": 68,
   "source": [
    "processed_posts = [elem for elem in map(preprocess, migraine_texts) if len(elem)]\n",
    "\n",
    "print(processed_posts[:10])"
   ],
   "outputs": [
    {
     "output_type": "stream",
     "name": "stdout",
     "text": [
      "[['awake', 'entire', 'night', 'worst', 'migraine', 'long', 'time', 'sufferer', 'different', 'thinking', 'impaired', 'usual', 'blood', 'pressure', 'need', 'sick', 'work', 'afraid', 'getting', 'trouble', 'afraid', 'hospital', 'emergency', 'room', 'number', 'covid', 'cases', 'area', 'know'], ['referral', 'neurologist', 'waiting', 'decided', 'trial', 'preventative', 'tried', 'topomax', 'weeks', 'couldn', 'handle', 'effects', 'currently', 'sandomigran', 'months', 'stopped', 'working', 'months', 'continued', 'want', 'accept', 'wasn', 'working', 'work', 'bloody', 'amazing', 'increase', 'dosage', 'effectiveness', 'barely', 'handle', 'fatigue', 'gives', 'asthma', 'venlafaxine', 'depression', 'anxiety', 'said', 'means', 'options', 'limited', 'preventatives', 'suggestions', 'preventatives', 'check', 'happy', 'prescribe'], ['night', 'migraine', 'maxed', 'ubrevly', 'angry', 'want', 'hospital', 'underlying', 'health', 'conditions', 'covid', 'needing', 'vent', 'fall', 'asleep'], ['fucked', 'position', 'migraines', 'everyday', 'months', 'playing', 'football', 'getting', 'concussion', 'process', 'scans', 'neurosurgeons', 'specialists', 'thing', 'helped', 'friend', 'sent', 'weed', 'cookies', 'pain', 'woke', 'pain', 'week', 'sourced', 'weed', 'help', 'pain', 'seriously', 'problem', 'years', 'went', 'rehab', 'drugs', 'gambling', 'boyfriend', 'went', 'shit', 'seen', 'come', 'happy', 'weed', 'pain', 'making', 'threats', 'having', 'choose', 'know', 'years', 'love', 'want', 'pain', 'know', 'going', 'pain', 'cause', 'want', 'loose', 'relationship', 'help'], ['contacted', 'doctor', 'event', 'curious', 'hear', 'sounds', 'familiar', 'referring', 'neurologist', 'said', 'months', 'going', 'talk', 'options', 'meantime', 'apologize', 'advance', 'incoming', 'wall', 'text', 'decided', 'check', 'migraine', 'resources', 'past', 'weekend', 'friday', 'headache', 'slowly', 'worse', 'respond', 'tylenol', 'aleve', 'evening', 'began', 'throwing', 'little', 'speck', 'stomach', 'headache', 'absolutely', 'throbbing', 'pulsatile', 'tinnitus', 'heartbeat', 'wooshing', 'like', 'sound', 'ears', 'sinus', 'stuffy', 'dissolving', 'zofran', 'hand', 'took', 'laid', 'eyes', 'covered', 'zofran', 'took', 'effect', 'able', 'stop', 'vomiting', 'headache', 'peaked', 'headache', 'lessened', 'somewhat', 'morning', 'pulsing', 'tinnitus', 'like', 'headaches', 'tinnitus', 'worse', 'laying', 'worse', 'morning', 'lessens', 'starts', 'creep', 'evening', 'experiencing', 'brain', 'feeling', 'like', 'think', 'straight', 'super', 'tired', 'happened', 'migraine', 'couple', 'years', 'terrible', 'headache', 'like', 'wavy', 'overlay', 'vision', 'summer', 'started', 'experiencing', 'fatigue', 'terrible', 'brain', 'memory', 'issues', 'fatigue', 'flare', 'weeks', 'months', 'started', 'antidepressent', 'helped', 'somewhat', 'experience', 'symptoms', 'initially', 'past', 'year', 'frequent', 'headaches', 'thought', 'related', 'stuffy', 'left', 'sinus', 'march', 'doctor', 'period', 'pulsatile', 'tinnitus', 'weeks', 'like', 'past', 'days', 'carotid', 'fine', 'suggested', 'maybe', 'migraines', 'completely', 'blew', 'silly', 'sound', 'like', 'migraine', 'specifically', 'curious', 'pulsatile', 'tinnitus', 'recognized', 'aspect', 'migraines', 'freaked'], ['brain', 'feels', 'like', 'sloshing', 'inside', 'head', 'hitting', 'parts', 'skull', 'gonna', 'throw'], ['small', 'problem', 'hands', 'shaking', 'little', 'migraine', 'hands', 'begun', 'shaking', 'time', 'struggle', 'holding', 'things', 'dropping', 'phone', 'spill', 'drinks', 'walking', 'matter', 'slow', 'stable', 'need', 'bigger', 'bowls', 'having', 'consider', 'buying', 'problem'], ['migraine', 'free', 'march', 'starting', 'adhd', 'meds', 'dream', 'come', 'true', 'suffering', 'monthly', 'years', 'insurance', 'issues', 'couldn', 'visit', 'meds', 'refilled', 'gotten', 'migraine', 'months', 'forgot', 'awful', 'cried', 'asked', 'unalive', 'triptan', 'effects', 'suck', 'wanted', 'stop', 'crying', 'needed', 'rant'], ['having', 'incredibly', 'painful', 'migraine', 'right', 'accompanied', 'usual', 'dizziness', 'nausea', 'visual', 'issues', 'painful', 'migraines', 'took', 'meds', 'hours', 'head', 'painful', 'helps', 'guys', 'migraines', 'meds', 'sleep', 'work', 'weeks', 'school', 'missed', 'days', 'migraines', 'want', 'miss', 'school'], ['background', 'blurb', 'mixed', 'chronic', 'migraines', 'years', 'worse', 'kids', 'years', 'preventative', 'meds', 'rescue', 'meds', 'migraine', 'days', 'month', 'days', 'regular', 'headaches', 'regular', 'headaches', 'migraines', 'blur', 'days', 'severe', 'enduring', 'migraines', 'period', 'ended', 'today', 'trying', 'guidelines', 'given', 'neurologist', 'avoid', 'rebound', 'headaches', 'headache', 'specialist', 'told', 'medication', 'days', 'including', 'rescue', 'meds', 'migraine', 'specific', 'meds', 'like', 'triptans', 'naproxen', 'tramacet', 'hard', 'trying', 'thing', 'pretty', 'headache', 'today', 'migraine', 'features', 'bounding', 'pain', 'sensitivity', 'light', 'sound', 'pressure', 'fatigue', 'pain', 'movement', 'trying', 'anymore', 'meds', 'tried', 'days', 'took', 'stuff', 'days', 'prior', 'things', 'severe', 'tell', 'having', 'rebound', 'headaches', 'migraine', 'postdrome', 'pain', 'postdrome']]\n"
     ]
    }
   ],
   "metadata": {}
  },
  {
   "cell_type": "code",
   "execution_count": 85,
   "source": [
    "word_dict = gensim.corpora.Dictionary(processed_posts)\n",
    "\n",
    "count = 0\n",
    "for k, v in word_dict.iteritems():\n",
    "    print(k, v)\n",
    "    count += 1\n",
    "    if count > 10:\n",
    "        break"
   ],
   "outputs": [
    {
     "output_type": "stream",
     "name": "stdout",
     "text": [
      "0 afraid\n",
      "1 area\n",
      "2 awake\n",
      "3 blood\n",
      "4 cases\n",
      "5 covid\n",
      "6 different\n",
      "7 emergency\n",
      "8 entire\n",
      "9 getting\n",
      "10 hospital\n"
     ]
    }
   ],
   "metadata": {}
  },
  {
   "cell_type": "markdown",
   "source": [
    "# Filter out Tokens\n",
    "\n",
    "- less than 15 documents (absolute number) or\n",
    "- more than 0.5 documents (fraction of total corpus size, not absolute number).\n",
    "- after the above two steps, keep only the first 1000 most frequent tokens."
   ],
   "metadata": {}
  },
  {
   "cell_type": "code",
   "execution_count": 70,
   "source": [
    "word_dict.filter_extremes(no_below=15, no_above=0.5, keep_n=1000)"
   ],
   "outputs": [],
   "metadata": {}
  },
  {
   "cell_type": "markdown",
   "source": [
    "# Gensim doc2bow\n",
    "\n",
    "For each document determine how many words and how many times they appear."
   ],
   "metadata": {}
  },
  {
   "cell_type": "code",
   "execution_count": 72,
   "source": [
    "bow_posts = [word_dict.doc2bow(doc) for doc in processed_posts]\n",
    "\n",
    "print(bow_posts[0])\n",
    "\n",
    "for i in range(len(bow_posts[0])):\n",
    "    print(f'Word {bow_posts[0][i]}  (\"{word_dict[bow_posts[0][i][0]]}\") appears {bow_posts[0][i][1]} time(s).')"
   ],
   "outputs": [
    {
     "output_type": "stream",
     "name": "stdout",
     "text": [
      "[(0, 2), (1, 1), (2, 1), (3, 1), (4, 1), (5, 1), (6, 1), (7, 1), (8, 1), (9, 1), (10, 1), (11, 1), (12, 1), (13, 1), (14, 1), (15, 1), (16, 1), (17, 1), (18, 1), (19, 1), (20, 1), (21, 1), (22, 1), (23, 1), (24, 1)]\n",
      "Word (0, 2)  (\"afraid\") appears 2 time(s).\n",
      "Word (1, 1)  (\"area\") appears 1 time(s).\n",
      "Word (2, 1)  (\"blood\") appears 1 time(s).\n",
      "Word (3, 1)  (\"covid\") appears 1 time(s).\n",
      "Word (4, 1)  (\"different\") appears 1 time(s).\n",
      "Word (5, 1)  (\"emergency\") appears 1 time(s).\n",
      "Word (6, 1)  (\"entire\") appears 1 time(s).\n",
      "Word (7, 1)  (\"getting\") appears 1 time(s).\n",
      "Word (8, 1)  (\"hospital\") appears 1 time(s).\n",
      "Word (9, 1)  (\"know\") appears 1 time(s).\n",
      "Word (10, 1)  (\"long\") appears 1 time(s).\n",
      "Word (11, 1)  (\"migraine\") appears 1 time(s).\n",
      "Word (12, 1)  (\"need\") appears 1 time(s).\n",
      "Word (13, 1)  (\"night\") appears 1 time(s).\n",
      "Word (14, 1)  (\"number\") appears 1 time(s).\n",
      "Word (15, 1)  (\"pressure\") appears 1 time(s).\n",
      "Word (16, 1)  (\"room\") appears 1 time(s).\n",
      "Word (17, 1)  (\"sick\") appears 1 time(s).\n",
      "Word (18, 1)  (\"sufferer\") appears 1 time(s).\n",
      "Word (19, 1)  (\"thinking\") appears 1 time(s).\n",
      "Word (20, 1)  (\"time\") appears 1 time(s).\n",
      "Word (21, 1)  (\"trouble\") appears 1 time(s).\n",
      "Word (22, 1)  (\"usual\") appears 1 time(s).\n",
      "Word (23, 1)  (\"work\") appears 1 time(s).\n",
      "Word (24, 1)  (\"worst\") appears 1 time(s).\n"
     ]
    }
   ],
   "metadata": {}
  },
  {
   "cell_type": "markdown",
   "source": [
    "# TF-IDF\n",
    "\n",
    "TF-IDF (term frequency-inverse document frequency) is a statistical measure that evaluates how relevant a word is to a document in a collection of documents. This is done by multiplying two metrics: how many times a word appears in a document, and the inverse document frequency of the word across a set of documents."
   ],
   "metadata": {}
  },
  {
   "cell_type": "code",
   "execution_count": 74,
   "source": [
    "from gensim import corpora, models\n",
    "\n",
    "tfidf = models.TfidfModel(bow_posts)\n",
    "posts_tfidf = tfidf[bow_posts]\n",
    "\n",
    "for doc in posts_tfidf:\n",
    "    pprint.pprint(doc)\n",
    "    break"
   ],
   "outputs": [
    {
     "output_type": "stream",
     "name": "stdout",
     "text": [
      "[(0, 0.47493475065658564),\n",
      " (1, 0.21115117180368562),\n",
      " (2, 0.1703657422979135),\n",
      " (3, 0.1955409353505147),\n",
      " (4, 0.14473119896123687),\n",
      " (5, 0.24500438221230278),\n",
      " (6, 0.2168788948413073),\n",
      " (7, 0.12595581002458722),\n",
      " (8, 0.20849570694048),\n",
      " (9, 0.09904807887858504),\n",
      " (10, 0.1330117860984265),\n",
      " (11, 0.06221695940442934),\n",
      " (12, 0.13038766004752086),\n",
      " (13, 0.16277642733814046),\n",
      " (14, 0.22581638263129158),\n",
      " (15, 0.15582283948886846),\n",
      " (16, 0.19008084161414196),\n",
      " (17, 0.19004990309436387),\n",
      " (18, 0.24696751178480564),\n",
      " (19, 0.19155983088238432),\n",
      " (20, 0.09543082720522261),\n",
      " (21, 0.23350827903668087),\n",
      " (22, 0.22581638263129158),\n",
      " (23, 0.10898930384768368),\n",
      " (24, 0.16928728332871606)]\n"
     ]
    }
   ],
   "metadata": {}
  },
  {
   "cell_type": "markdown",
   "source": [
    "# Running LDA  using Bag of Words\n"
   ],
   "metadata": {}
  },
  {
   "cell_type": "code",
   "execution_count": 75,
   "source": [
    "lda_model = gensim.models.LdaMulticore(bow_posts, num_topics=10, id2word=word_dict, passes=2, workers=2)"
   ],
   "outputs": [],
   "metadata": {}
  },
  {
   "cell_type": "code",
   "execution_count": 80,
   "source": [
    "for idx, topic in lda_model.print_topics():\n",
    "    print(f'Topic {idx}: Words: {topic}')"
   ],
   "outputs": [
    {
     "output_type": "stream",
     "name": "stdout",
     "text": [
      "Topic 0: Words: 0.064*\"thank\" + 0.051*\"thanks\" + 0.041*\"https\" + 0.018*\"migraine\" + 0.018*\"glad\" + 0.017*\"look\" + 0.016*\"know\" + 0.013*\"reddit\" + 0.013*\"good\" + 0.013*\"post\"\n",
      "Topic 1: Words: 0.066*\"migraines\" + 0.023*\"blood\" + 0.023*\"trigger\" + 0.022*\"pressure\" + 0.018*\"triggers\" + 0.013*\"food\" + 0.013*\"stress\" + 0.013*\"weather\" + 0.012*\"high\" + 0.012*\"think\"\n",
      "Topic 2: Words: 0.053*\"like\" + 0.038*\"feel\" + 0.035*\"migraine\" + 0.025*\"head\" + 0.019*\"pain\" + 0.015*\"feeling\" + 0.013*\"time\" + 0.011*\"usually\" + 0.011*\"right\" + 0.010*\"feels\"\n",
      "Topic 3: Words: 0.032*\"hope\" + 0.031*\"sleep\" + 0.023*\"helps\" + 0.022*\"better\" + 0.020*\"work\" + 0.020*\"light\" + 0.019*\"help\" + 0.019*\"migraine\" + 0.017*\"soon\" + 0.015*\"time\"\n",
      "Topic 4: Words: 0.067*\"migraine\" + 0.035*\"migraines\" + 0.024*\"drink\" + 0.024*\"water\" + 0.016*\"like\" + 0.016*\"caffeine\" + 0.015*\"years\" + 0.014*\"people\" + 0.013*\"control\" + 0.013*\"time\"\n",
      "Topic 5: Words: 0.030*\"good\" + 0.022*\"work\" + 0.018*\"know\" + 0.015*\"insurance\" + 0.015*\"time\" + 0.013*\"luck\" + 0.013*\"help\" + 0.011*\"pain\" + 0.011*\"doctor\" + 0.009*\"years\"\n",
      "Topic 6: Words: 0.044*\"migraine\" + 0.041*\"migraines\" + 0.038*\"pain\" + 0.026*\"headache\" + 0.025*\"headaches\" + 0.020*\"aura\" + 0.019*\"symptoms\" + 0.018*\"neck\" + 0.012*\"head\" + 0.011*\"years\"\n",
      "Topic 7: Words: 0.030*\"migraines\" + 0.025*\"migraine\" + 0.022*\"month\" + 0.020*\"botox\" + 0.017*\"tried\" + 0.017*\"taking\" + 0.016*\"meds\" + 0.015*\"days\" + 0.015*\"months\" + 0.014*\"week\"\n",
      "Topic 8: Words: 0.037*\"doctor\" + 0.021*\"neurologist\" + 0.020*\"effects\" + 0.017*\"migraine\" + 0.016*\"medication\" + 0.016*\"headache\" + 0.015*\"dose\" + 0.014*\"taking\" + 0.013*\"topamax\" + 0.012*\"said\"\n",
      "Topic 9: Words: 0.045*\"like\" + 0.030*\"pain\" + 0.026*\"migraines\" + 0.024*\"migraine\" + 0.021*\"people\" + 0.020*\"know\" + 0.018*\"sorry\" + 0.014*\"think\" + 0.014*\"feel\" + 0.013*\"sounds\"\n"
     ]
    }
   ],
   "metadata": {}
  },
  {
   "cell_type": "markdown",
   "source": [
    "# Running LDA using TF-IDF\n"
   ],
   "metadata": {}
  },
  {
   "cell_type": "code",
   "execution_count": 81,
   "source": [
    "lda_model_tfidf = gensim.models.LdaMulticore(posts_tfidf, num_topics=10, id2word=word_dict, passes=2, workers=4)"
   ],
   "outputs": [],
   "metadata": {}
  },
  {
   "cell_type": "code",
   "execution_count": 82,
   "source": [
    "for idx, topic in lda_model_tfidf.print_topics():\n",
    "    print(f'Topic {idx}: Word: {topic}')"
   ],
   "outputs": [
    {
     "output_type": "stream",
     "name": "stdout",
     "text": [
      "Topic 0: Word: 0.017*\"hope\" + 0.014*\"glad\" + 0.012*\"right\" + 0.011*\"soon\" + 0.011*\"haha\" + 0.010*\"better\" + 0.010*\"migraine\" + 0.010*\"works\" + 0.009*\"feel\" + 0.008*\"like\"\n",
      "Topic 1: Word: 0.073*\"thank\" + 0.015*\"light\" + 0.015*\"sorry\" + 0.015*\"love\" + 0.014*\"smell\" + 0.011*\"look\" + 0.010*\"glasses\" + 0.010*\"interesting\" + 0.009*\"like\" + 0.009*\"migraine\"\n",
      "Topic 2: Word: 0.015*\"https\" + 0.010*\"migraine\" + 0.010*\"feel\" + 0.010*\"people\" + 0.009*\"migraines\" + 0.008*\"like\" + 0.008*\"know\" + 0.007*\"medical\" + 0.007*\"nice\" + 0.006*\"need\"\n",
      "Topic 3: Word: 0.055*\"deleted\" + 0.022*\"like\" + 0.018*\"sounds\" + 0.014*\"know\" + 0.013*\"hear\" + 0.012*\"heard\" + 0.011*\"definitely\" + 0.011*\"people\" + 0.010*\"sorry\" + 0.010*\"doctor\"\n",
      "Topic 4: Word: 0.014*\"botox\" + 0.013*\"insurance\" + 0.010*\"tried\" + 0.009*\"work\" + 0.009*\"nurtec\" + 0.009*\"month\" + 0.009*\"aimovig\" + 0.008*\"meds\" + 0.008*\"sumatriptan\" + 0.008*\"triptans\"\n",
      "Topic 5: Word: 0.012*\"magnesium\" + 0.011*\"migraines\" + 0.011*\"dose\" + 0.011*\"taking\" + 0.010*\"migraine\" + 0.008*\"doctor\" + 0.008*\"effects\" + 0.007*\"topamax\" + 0.007*\"medication\" + 0.007*\"pill\"\n",
      "Topic 6: Word: 0.024*\"neck\" + 0.017*\"good\" + 0.014*\"pain\" + 0.014*\"luck\" + 0.011*\"head\" + 0.010*\"sleep\" + 0.009*\"tension\" + 0.009*\"migraine\" + 0.009*\"like\" + 0.009*\"pillow\"\n",
      "Topic 7: Word: 0.018*\"thanks\" + 0.014*\"migraine\" + 0.012*\"pain\" + 0.011*\"like\" + 0.010*\"aura\" + 0.009*\"head\" + 0.009*\"headache\" + 0.008*\"migraines\" + 0.007*\"feel\" + 0.007*\"vision\"\n",
      "Topic 8: Word: 0.016*\"migraines\" + 0.013*\"migraine\" + 0.009*\"days\" + 0.009*\"years\" + 0.009*\"pain\" + 0.008*\"like\" + 0.008*\"symptoms\" + 0.008*\"week\" + 0.008*\"exactly\" + 0.007*\"months\"\n",
      "Topic 9: Word: 0.019*\"removed\" + 0.017*\"water\" + 0.016*\"drink\" + 0.013*\"migraine\" + 0.012*\"trigger\" + 0.011*\"food\" + 0.010*\"time\" + 0.010*\"migraines\" + 0.010*\"sugar\" + 0.009*\"triggers\"\n"
     ]
    }
   ],
   "metadata": {}
  },
  {
   "cell_type": "markdown",
   "source": [
    "# Topic Extraction from Titles Only\n",
    "\n",
    "Above shows words that could be topics from entire posts and comments.  There isn't any clear pattern here.  Let's see what happens if we use just post titles instead of posts/comments.\n"
   ],
   "metadata": {}
  },
  {
   "cell_type": "markdown",
   "source": [
    "# Create Title Dataset\n",
    "\n",
    "Here we will create list of titles.\n"
   ],
   "metadata": {}
  },
  {
   "cell_type": "code",
   "execution_count": 84,
   "source": [
    "migraine_titles = []\n",
    "header = []\n",
    "\n",
    "read_header = False\n",
    "with open(f'data/{migraine_file_name}', 'r') as csv_file:\n",
    "    csv_reader = csv.reader(csv_file)\n",
    "    for entry in csv_reader:\n",
    "        if not read_header:\n",
    "            header = entry\n",
    "            read_header = True\n",
    "        else:\n",
    "            # comments have the same titles as posts so just ignore them\n",
    "            if entry[header.index('Type')] == 'P':\n",
    "                migraine_titles.append(entry[header.index('Title')])\n",
    "\n",
    "print(len(migraine_titles))\n",
    "print(migraine_titles[:10])"
   ],
   "outputs": [
    {
     "output_type": "stream",
     "name": "stdout",
     "text": [
      "10000\n",
      "[\"Worst I've ever had/calling in sick\", 'What preventative to trial next? (Asthmatic &amp; take venlafaxine)', 'Pain', 'Pain vs Relationship', 'Reminder: Birth Control With Estrogen Causes Increased Risk of Stroke', 'New to this and wondering if others experience similar symptoms, including tinnitus?', 'Relatable or should I be worried', 'Does anyone else struggle with shaking hands?', 'Just upset', 'Non standard remedies for migraines']\n"
     ]
    }
   ],
   "metadata": {}
  },
  {
   "cell_type": "code",
   "execution_count": 87,
   "source": [
    "processed_titles = [elem for elem in map(preprocess, migraine_titles) if len(elem)]\n",
    "\n",
    "print(processed_titles[:10])"
   ],
   "outputs": [
    {
     "output_type": "stream",
     "name": "stdout",
     "text": [
      "[['worst', 'calling', 'sick'], ['preventative', 'trial', 'asthmatic', 'venlafaxine'], ['pain'], ['pain', 'relationship'], ['reminder', 'birth', 'control', 'estrogen', 'causes', 'increased', 'risk', 'stroke'], ['wondering', 'experience', 'similar', 'symptoms', 'including', 'tinnitus'], ['relatable', 'worried'], ['struggle', 'shaking', 'hands'], ['upset'], ['standard', 'remedies', 'migraines']]\n"
     ]
    }
   ],
   "metadata": {}
  },
  {
   "cell_type": "code",
   "execution_count": 88,
   "source": [
    "title_dict = gensim.corpora.Dictionary(processed_titles)\n",
    "\n",
    "count = 0\n",
    "for k, v in title_dict.iteritems():\n",
    "    print(k, v)\n",
    "    count += 1\n",
    "    if count > 10:\n",
    "        break"
   ],
   "outputs": [
    {
     "output_type": "stream",
     "name": "stdout",
     "text": [
      "0 calling\n",
      "1 sick\n",
      "2 worst\n",
      "3 asthmatic\n",
      "4 preventative\n",
      "5 trial\n",
      "6 venlafaxine\n",
      "7 pain\n",
      "8 relationship\n",
      "9 birth\n",
      "10 causes\n"
     ]
    }
   ],
   "metadata": {}
  },
  {
   "cell_type": "markdown",
   "source": [
    "# Filter out Extremes\n"
   ],
   "metadata": {}
  },
  {
   "cell_type": "code",
   "execution_count": 90,
   "source": [
    "title_dict.filter_extremes(no_below=15, no_above=0.5, keep_n=1000)"
   ],
   "outputs": [],
   "metadata": {}
  },
  {
   "cell_type": "markdown",
   "source": [
    "# Gensim doc2bow for titles\n"
   ],
   "metadata": {}
  },
  {
   "cell_type": "code",
   "execution_count": 91,
   "source": [
    "bow_titles = [title_dict.doc2bow(doc) for doc in processed_titles]\n",
    "\n",
    "print(bow_titles[0])\n",
    "\n",
    "for i in range(len(bow_titles[0])):\n",
    "    print(f'Word {bow_titles[0][i]}  (\"{title_dict[bow_titles[0][i][0]]}\") appears {bow_titles[0][i][1]} time(s).')"
   ],
   "outputs": [
    {
     "output_type": "stream",
     "name": "stdout",
     "text": [
      "[(0, 1), (1, 1)]\n",
      "Word (0, 1)  (\"sick\") appears 1 time(s).\n",
      "Word (1, 1)  (\"worst\") appears 1 time(s).\n"
     ]
    }
   ],
   "metadata": {}
  },
  {
   "cell_type": "markdown",
   "source": [
    "# TF-IDF for titles\n"
   ],
   "metadata": {}
  },
  {
   "cell_type": "code",
   "execution_count": 92,
   "source": [
    "from gensim import corpora, models\n",
    "\n",
    "tfidf = models.TfidfModel(bow_titles)\n",
    "titles_tfidf = tfidf[bow_titles]\n",
    "\n",
    "for doc in titles_tfidf:\n",
    "    pprint.pprint(doc)\n",
    "    break"
   ],
   "outputs": [
    {
     "output_type": "stream",
     "name": "stdout",
     "text": [
      "[(0, 0.7177268263227299), (1, 0.6963247825380781)]\n"
     ]
    }
   ],
   "metadata": {}
  },
  {
   "cell_type": "markdown",
   "source": [
    "# BOW LDA for titles\n"
   ],
   "metadata": {}
  },
  {
   "cell_type": "code",
   "execution_count": 93,
   "source": [
    "lda_model_titles = gensim.models.LdaMulticore(bow_titles, num_topics=10, id2word=title_dict, passes=2, workers=2)"
   ],
   "outputs": [],
   "metadata": {}
  },
  {
   "cell_type": "code",
   "execution_count": 94,
   "source": [
    "for idx, topic in lda_model_titles.print_topics():\n",
    "    print(f'Topic {idx}: Words: {topic}')"
   ],
   "outputs": [
    {
     "output_type": "stream",
     "name": "stdout",
     "text": [
      "Topic 0: Words: 0.344*\"migraine\" + 0.026*\"like\" + 0.024*\"feel\" + 0.014*\"days\" + 0.013*\"tried\" + 0.013*\"headache\" + 0.010*\"symptoms\" + 0.010*\"know\" + 0.010*\"aura\" + 0.010*\"relief\"\n",
      "Topic 1: Words: 0.057*\"time\" + 0.055*\"migraine\" + 0.040*\"advice\" + 0.034*\"like\" + 0.032*\"topamax\" + 0.031*\"sumatriptan\" + 0.031*\"aura\" + 0.028*\"question\" + 0.025*\"migraines\" + 0.020*\"experience\"\n",
      "Topic 2: Words: 0.048*\"migraines\" + 0.042*\"aimovig\" + 0.032*\"effects\" + 0.029*\"good\" + 0.027*\"head\" + 0.025*\"migraine\" + 0.023*\"headache\" + 0.016*\"amitriptyline\" + 0.015*\"rant\" + 0.013*\"advice\"\n",
      "Topic 3: Words: 0.105*\"migraine\" + 0.087*\"headaches\" + 0.033*\"migraines\" + 0.021*\"week\" + 0.020*\"medication\" + 0.019*\"long\" + 0.019*\"auras\" + 0.019*\"tension\" + 0.018*\"headache\" + 0.018*\"anybody\"\n",
      "Topic 4: Words: 0.062*\"migraine\" + 0.036*\"nurtec\" + 0.026*\"control\" + 0.023*\"migraines\" + 0.023*\"works\" + 0.022*\"help\" + 0.022*\"best\" + 0.022*\"weird\" + 0.020*\"pain\" + 0.020*\"birth\"\n",
      "Topic 5: Words: 0.123*\"pain\" + 0.051*\"migraine\" + 0.041*\"work\" + 0.040*\"headache\" + 0.034*\"head\" + 0.024*\"neck\" + 0.023*\"chronic\" + 0.020*\"migraines\" + 0.018*\"going\" + 0.016*\"weeks\"\n",
      "Topic 6: Words: 0.285*\"migraines\" + 0.040*\"migraine\" + 0.018*\"like\" + 0.016*\"help\" + 0.014*\"having\" + 0.014*\"trigger\" + 0.012*\"neurologist\" + 0.012*\"chronic\" + 0.012*\"weather\" + 0.011*\"aura\"\n",
      "Topic 7: Words: 0.064*\"botox\" + 0.060*\"help\" + 0.051*\"headache\" + 0.028*\"feeling\" + 0.023*\"triptan\" + 0.021*\"today\" + 0.018*\"taking\" + 0.016*\"like\" + 0.016*\"sleep\" + 0.015*\"think\"\n",
      "Topic 8: Words: 0.086*\"migraines\" + 0.038*\"getting\" + 0.035*\"migraine\" + 0.031*\"emgality\" + 0.025*\"aura\" + 0.020*\"meds\" + 0.017*\"pressure\" + 0.017*\"scared\" + 0.015*\"need\" + 0.013*\"working\"\n",
      "Topic 9: Words: 0.111*\"migraines\" + 0.068*\"migraine\" + 0.027*\"vaccine\" + 0.024*\"covid\" + 0.024*\"treatment\" + 0.021*\"doctor\" + 0.019*\"post\" + 0.018*\"worse\" + 0.017*\"life\" + 0.016*\"trigger\"\n"
     ]
    }
   ],
   "metadata": {}
  },
  {
   "cell_type": "markdown",
   "source": [
    "# TF-IDF LDA for titles\n"
   ],
   "metadata": {}
  },
  {
   "cell_type": "code",
   "execution_count": 95,
   "source": [
    "lda_model_titles_tfidf = gensim.models.LdaMulticore(titles_tfidf, num_topics=10, id2word=title_dict, passes=2, workers=4)"
   ],
   "outputs": [],
   "metadata": {}
  },
  {
   "cell_type": "code",
   "execution_count": 96,
   "source": [
    "for idx, topic in lda_model_titles_tfidf.print_topics():\n",
    "    print(f'Topic {idx}: Word: {topic}')"
   ],
   "outputs": [
    {
     "output_type": "stream",
     "name": "stdout",
     "text": [
      "Topic 0: Word: 0.152*\"migraines\" + 0.064*\"migraine\" + 0.039*\"feel\" + 0.036*\"like\" + 0.022*\"head\" + 0.021*\"having\" + 0.015*\"people\" + 0.014*\"food\" + 0.013*\"related\" + 0.012*\"silent\"\n",
      "Topic 1: Word: 0.038*\"migraine\" + 0.035*\"tried\" + 0.031*\"migraines\" + 0.029*\"topamax\" + 0.027*\"today\" + 0.027*\"life\" + 0.025*\"headaches\" + 0.024*\"emgality\" + 0.023*\"doctor\" + 0.019*\"helped\"\n",
      "Topic 2: Word: 0.040*\"headaches\" + 0.034*\"neurologist\" + 0.030*\"treatment\" + 0.026*\"migraine\" + 0.022*\"post\" + 0.020*\"triptans\" + 0.018*\"eyes\" + 0.018*\"migraines\" + 0.017*\"chronic\" + 0.016*\"pain\"\n",
      "Topic 3: Word: 0.117*\"migraines\" + 0.090*\"headache\" + 0.024*\"worse\" + 0.021*\"tension\" + 0.020*\"migraine\" + 0.016*\"chronic\" + 0.014*\"causing\" + 0.013*\"loss\" + 0.013*\"headaches\" + 0.013*\"tired\"\n",
      "Topic 4: Word: 0.204*\"migraine\" + 0.044*\"feeling\" + 0.016*\"week\" + 0.015*\"like\" + 0.014*\"free\" + 0.013*\"think\" + 0.012*\"month\" + 0.012*\"looking\" + 0.012*\"good\" + 0.012*\"migraines\"\n",
      "Topic 5: Word: 0.047*\"botox\" + 0.038*\"trigger\" + 0.035*\"aimovig\" + 0.029*\"brain\" + 0.027*\"nurtec\" + 0.027*\"topamax\" + 0.022*\"migraines\" + 0.021*\"sleep\" + 0.020*\"migraine\" + 0.017*\"triptan\"\n",
      "Topic 6: Word: 0.033*\"migraine\" + 0.026*\"days\" + 0.025*\"experience\" + 0.024*\"aura\" + 0.024*\"time\" + 0.022*\"ubrelvy\" + 0.022*\"getting\" + 0.021*\"visual\" + 0.019*\"imitrex\" + 0.019*\"migraines\"\n",
      "Topic 7: Word: 0.090*\"migraine\" + 0.052*\"aura\" + 0.034*\"advice\" + 0.027*\"question\" + 0.026*\"need\" + 0.025*\"chronic\" + 0.022*\"going\" + 0.022*\"amitriptyline\" + 0.018*\"headache\" + 0.018*\"attack\"\n",
      "Topic 8: Word: 0.061*\"pain\" + 0.033*\"migraine\" + 0.027*\"work\" + 0.025*\"meds\" + 0.025*\"migraines\" + 0.024*\"years\" + 0.023*\"help\" + 0.019*\"medication\" + 0.018*\"rebound\" + 0.016*\"weather\"\n",
      "Topic 9: Word: 0.066*\"help\" + 0.032*\"migraine\" + 0.032*\"migraines\" + 0.027*\"know\" + 0.023*\"rant\" + 0.020*\"triggered\" + 0.020*\"sumatriptan\" + 0.019*\"vaccine\" + 0.017*\"working\" + 0.017*\"triggers\"\n"
     ]
    }
   ],
   "metadata": {}
  }
 ],
 "metadata": {
  "orig_nbformat": 4,
  "language_info": {
   "name": "python",
   "version": "3.9.0",
   "mimetype": "text/x-python",
   "codemirror_mode": {
    "name": "ipython",
    "version": 3
   },
   "pygments_lexer": "ipython3",
   "nbconvert_exporter": "python",
   "file_extension": ".py"
  },
  "kernelspec": {
   "name": "python3",
   "display_name": "Python 3.9.0 64-bit ('migraine-data-reddit-WM5Df_6q-py3.9': poetry)"
  },
  "interpreter": {
   "hash": "e2aeec2cf51c918189e26105d0d6d1405249743e1be845e15e5a859002a67bef"
  }
 },
 "nbformat": 4,
 "nbformat_minor": 2
}