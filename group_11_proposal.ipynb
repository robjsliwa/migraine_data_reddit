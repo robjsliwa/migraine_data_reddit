{
 "cells": [
  {
   "cell_type": "markdown",
   "source": [
    "# The Team\n",
    "\n",
    "- Group member 1\n",
    "    - Name: Robert Sliwa\n",
    "    - Email: rjs463@drexel.edu\n",
    "- Group member 2\n",
    "    - Name: Adam Gallegos\n",
    "    - Email: ag3999@drexel.edu\n",
    "- Group member 3\n",
    "    - Name: Huiling Yang\n",
    "    - Email: hy435@drexel.edu\n",
    "- Group member 4\n",
    "    - Name: NA\n",
    "    - Email: NA\n",
    "\n",
    "## Adam Gallegos\n",
    "\n",
    "I am pursuing the applied data science certificate. My programming skills are currently self-taught, and I am looking to improve them. I have also found in my career that with modern computing we tend to create substantial amounts of data, but our ability to parse through the data is lacking. My goal in the program is to better understand how to process the data and use the data to improve outcomes.  \n",
    "\n",
    "I was attracted to this project, an attempt to pull meaningful data to better understand migraines, because my wife suffers from these headaches. I’m also interested in learning new skills outside my swim lane. In my day job I work exclusively with numbers. Scraping the web and finding meaningful data from words will be a new challenge for me. I am sure this will teach me skills that will transfer over to my daily work. \n",
    "\n",
    "While I am new to data science, I have brought to the team nearly 20 years of engineering experience. I lead project teams to design and analyze aerospace structures, and from that I have gained extensive problem-solving experience.  \n",
    "\n",
    "## Huiling Mia\n",
    "\n",
    "I enrolled in Data Science program and I am interested in data analysis and database. I used to be a college teacher in China, and I taught courses and did research on the biology-related field for several years. I have some work experience in the health clinic in the USA.  \n",
    "\n",
    "## Robert Sliwa\n",
    "\n",
    "I am enrolled in Data Science program and I am particularly interested in using Data Science for medicine and biology.  I have experience in programming and at work I design and implement microservices and real time communication applications.  I have never had opportunity to apply my knowledge to data gathering from sources like web scraping or social media.  I also find NLP very interesting and I would love to learn more about it and apply NLP in text processing, data gathering, and information extraction.  \n",
    "\n",
    "Our team chose project about migraines.  Migraines are not well understood yet and there is a lot of people suffering from it.  One of the difficulty of dealing with migraines is that they appear to manifest in so many different ways depending on a person.  I also know people and have family members that suffer from migraine so opportunity to research and gather the data about it is both very interesting and personal.\n",
    "\n"
   ],
   "metadata": {}
  },
  {
   "cell_type": "markdown",
   "source": [
    "# Project Goals\n",
    "\n",
    "Our plan is to scrape various websites that discuss migraine headaches for discussions related to triggers, symptoms, and treatments. The internet has an almost overwhelming amount of these discussions and by pulling the data together we can create a useful dataset. We hope this dataset can lead to insights on causes and treatments of migraines.  \n",
    "\n",
    "We see this project as a way to use the internet discussions to crowdsource the data. People on these forums may give their more genuine thoughts versus more formal studies. The forums are a safe place to give their feedback on symptoms and treatments. It is expected that there would be less downplaying of symptoms and a more critical eye to treatments that you may see from a dedicated study.  \n",
    "\n",
    "Specific data we are looking to pull includes: \n",
    "\n",
    "- Age\n",
    "- Sex \n",
    "- Common Symptoms  \n",
    "- Triggers \n",
    "- Length of headache \n",
    "- Treatments/Drugs and Dosage \n",
    "- Effectiveness of treatments\n",
    "\n",
    "The end product will be a searchable database that would give researchers the crowdsourced knowledge. It is hoped this could then give insights that could be used to better tailor treatments to migraine sufferers. By linking symptoms to treatments to outcomes, general trends can be found that would shorten the trial-and-error processes to match a patient more quickly with effective treatments. \n"
   ],
   "metadata": {}
  },
  {
   "cell_type": "markdown",
   "source": [
    "# Potential Issues and Challenges\n",
    "\n",
    "The major challenge with the data will be parsing through the forum posts and extracting meaningful information. There are no rules for posting as far as format or specific topics, so we will need to find a way to glean the key details. Few, if any, will have all the data we are looking for. Many will not have enough information to be useful, others will have relevant data wrapped in paragraphs of superfluous text. Parsing through this to get accurate and useful information will be difficult.  \n",
    "\n",
    "An example of one challenge is finding the sex. We plan to go through the posts and look for keywords, in particular pronouns such as ‘he’ or ‘she’. This will give an indication of the sex of the poster. But in many instances the posts are written in the first person, so the pronoun will be genderless ‘I’. In other cases, the poster may be writing on behalf of someone else and may have words like ‘wife’ or ‘daughter. This may cause confusion about who the migraine sufferer is. This will be especially problematic if we use the poster’s username to try to find their gender.  \n",
    "\n",
    "Another issue will be in trying to parse out the drugs that are being used as treatments. The various drugs have different trade/common names and are often misspelled. Trying to associate the dosage presents challenges as well. Figuring out if numbers are relevant to the drug will be prone to error. This may be mitigated by looking for keywords such as ‘mg’ or similar common dosage units and checking to see if the number is reasonable for the drug in question.  \n",
    "Other items, such as symptoms, are more open-ended and the possibilities are limitless. This will take careful consideration of what we are looking for, what symptoms are significant enough to track. It may also require the use of a dictionary of synonyms to group symptoms into pertinent categories.  \n",
    "\n",
    "Other issues with the data are common to that of any data on the internet. There is no way to know if what any one poster is saying is truthful and accurate. For this topic, we are assuming that there is little incentive to post fake experiences. It is reasonable to expect the number of outright fake posts will be low. Another internet issue is people exaggerating their experiences. Our thought process here is that posters to these forums may see this audience as less judgmental as opposed to talking to a doctor or a researcher face to face. This will lead to more truthful postings. But there is no way to know for sure. The aggregate data tends to smooth out these types of exaggerations, assuming we can get a meaningful amount of data.  "
   ],
   "metadata": {}
  },
  {
   "cell_type": "markdown",
   "source": [
    "# Who might be interested in our data\n",
    "\n",
    "- Sufferers: get more knowledge about migraine, and get access to other people’s insights, tips, and experiences with migraine.\n",
    "- Family member, friends or employers of migraine suffers: get to know migraine experience and better understand or take good care of migraine sufferers\n",
    "- Doctor or health provider: connect to a huge number of migraine sufferers \n",
    "- Medical school student: get to know more about migraine and people’s experiences with migraine\n",
    "- Insurance company: get more information of migraine experience related to prevention, medication and treatment.\n",
    "- Data scientist: help them build their own dataset\n",
    "- Researchers: find interesting topics (problems) and work on it ( or try to solve the problems)\n",
    "- Medical app developers: build their own app\n"
   ],
   "metadata": {}
  },
  {
   "cell_type": "markdown",
   "source": [
    "# The Data\n",
    "\n",
    "We have found two promising sources of data:\n",
    "\n",
    "- Migraine Subreddit - https://www.reddit.com/r/migraine/\n",
    "- Migraine.com - Platform for migraine patience to share and learn about migraines\n",
    "\n",
    "We are evaluating both sources and we will pick one or we may choose to combine data from both of them.\n",
    "\n",
    "## Migraine Subreddit\n",
    "\n",
    "Migraine Subreddit is a huge collection of posts about variety of migraine experiences like medicines used, techniques to deal with headaches, descriptions of auras, rants about people not understanding migraine sufferers and implications of suffering from migraines on work and family.\n",
    "\n",
    "There are two ways to access it.  One is via official Reddit APIs.  Reddit's User Agreement have provisions on scrapping but it allows access to all data via APIs.   For retrieving the posts and comments or even user information you can use APIs that don't require authentication.  However, our experience with those APIs is that it does not allow us to get to far back into the past posts.\n",
    "\n",
    "We found that there is a service called [`pushshift.io`](https://pushshift.io/what-is-pushshift-io/) that maintains copy of Reddit for purposes of Big Data and Social Media ingest and analysis.  The APIs are documented [here](https://pushshift.io/api-parameters/) and are very simple to use and also don't require authentication but most importantly we were able to access data from more than 2 years ago.  Therefore, we chose to use pushshift.io APIs over Reddit's own APIs.\n",
    "\n",
    "## Migraine.com\n",
    "\n",
    "[Migraine.com](https://migraine.com/) is an excellent source on people sharing their experiences with migraine, the challenges they face, and how they deal with them.  The advantage of Migraine.com over migraine subreddit is that it is more organized and focussed on the topics within the available categories.  In addition user's post with their real names so this would allow us to identify gender of the user as an additional piece of information.\n",
    "\n",
    "This site doesn't provide APIs so its forums need to be scraped.  Migraines.com `Terms of Use` specify that one needs to get permission for scraping their articles, however, the robots.txt file doesn't prohibit scraping of migraines.com/forums:\n",
    "\n",
    "[robots.txt](https://migraine.com/robots.txt)\n",
    "```\n",
    "User-agent: *\n",
    "Disallow: /dashboard/wp-admin/\n",
    "Disallow: /members/\n",
    "Disallow: /wp-login.php\n",
    "Disallow: /community/members/\n",
    "Disallow: /dashboard/wp-login.php\n",
    "Disallow: /not-acceptable/\n",
    "Disallow: /*preview_id=*\n",
    "Disallow: /weekly/\n",
    "Disallow: /create-thread\n",
    "Disallow: /recipes/new\n",
    "Disallow: /stories/new\n",
    "Disallow: /unsubscribe\n",
    "Disallow: /profile\n",
    "Disallow: /messages\n",
    "#FTF Disallows\n",
    "Disallow: /activity/\n",
    "Disallow: /search/\n",
    "Disallow: /*?s=*\n",
    "Disallow: /*acpage=*\n",
    "Disallow: /*_wpnonce=*\n",
    "Disallow: /*redirect=*\n",
    "Disallow: /*sharedId=*\n",
    "## XML Sitemap locations\n",
    "Sitemap: https://migraine.com/sitemap_index.xml\n",
    "```\n"
   ],
   "metadata": {}
  },
  {
   "cell_type": "markdown",
   "source": [
    "# Intermediate Data Storage\n",
    "\n",
    "Accessing data either via Web scraping or APIs is slow.  For example, pushshift.io has limits on how often given endpoint can be accessed.  In order to gather 10000 posts from pushshift.io it took close to 8 hours and we needed to throttle our APIs to avoid `429 Too Many Requests` errors.  Therefore, we decided that we need a convenient intermediate data storage that would allow us to access data quickly but also perform queries to slice it and dice it.  For this reason we chose to store data retrieved from pushshift.io or migraine.com in MongoDB.  MongoDB's document data model supports JSON and it has great query language.  Since pushshift.io already returns posts as JSON objects and scraping migraine.com can also easily be returned as JSON object, MongoDB was a great fit.\n",
    "\n",
    "## MongoDB Setup\n",
    "\n",
    "Rather than dealing with differences of MongoDB setup on different operating systems we decided to use Docker based approach.  Here is the `docker-compose.yml`:\n",
    "\n",
    "```\n",
    "version: \"3\"\n",
    "services:\n",
    "  mongo:\n",
    "    image: mongo:latest\n",
    "    volumes:\n",
    "      - ./dbdata:/data/db\n",
    "    ports:\n",
    "      - 37017:27017\n",
    "\n",
    "```\n",
    "\n",
    "We start this using `docker-compose up -d`.  Notice we mapped `/data/db` which is default location for database files to host's `/dbdata`.  This allows restarts of the container without losing the data.  In addition, we can just zip `dbdata` folder to share database files.\n",
    "\n",
    "Finally we connect to the database with the following code:"
   ],
   "metadata": {}
  },
  {
   "cell_type": "code",
   "execution_count": null,
   "source": [
    "import requests\n",
    "import time\n",
    "import pprint\n",
    "from pymongo import MongoClient"
   ],
   "outputs": [],
   "metadata": {}
  },
  {
   "cell_type": "code",
   "execution_count": null,
   "source": [
    "database_name = 'reddit-migraine'\n",
    "\n",
    "client = MongoClient('mongodb://localhost:37017')\n",
    "db = client[database_name]"
   ],
   "outputs": [],
   "metadata": {}
  },
  {
   "cell_type": "markdown",
   "source": [
    "To ensure that our queries run quickly we setup couple indexes.  `id` is unique identifier for each post, `selftext` is context of the post, `title` and `author` are self explanatory."
   ],
   "metadata": {}
  },
  {
   "cell_type": "code",
   "execution_count": null,
   "source": [
    "posts_collection = 'posts'\n",
    "\n",
    "db[posts_collection].create_index('id', unique=True)\n",
    "db[posts_collection].create_index('selftext', unique=False)\n",
    "db[posts_collection].create_index('title', unique=False)\n",
    "db[posts_collection].create_index('author', unique=False)"
   ],
   "outputs": [],
   "metadata": {}
  },
  {
   "cell_type": "markdown",
   "source": [
    "## Storying Reddis Posts/Comments in Mongo\n",
    "\n",
    "With database setup all we need to do is loop calling API and accessing 10 posts at the time.  For each retrieved post we then call API to get comments on those posts and finally store comments in the post's JSON object under new `comments` key.  Since Mongo doesn't excel in aggregations it prefers flat object structure so storying comments as a embedded list works out really well here.\n"
   ],
   "metadata": {}
  },
  {
   "cell_type": "markdown",
   "source": [
    "## Helper Methods\n",
    "\n",
    "These methods access Reddit posts and comments from pushshift.io server."
   ],
   "metadata": {}
  },
  {
   "cell_type": "code",
   "execution_count": null,
   "source": [
    "def get_posts(pushshift_url, subreddit_name, before_time, max_size=100):\n",
    "    should_retry = True\n",
    "    while should_retry:\n",
    "        try:\n",
    "            req = requests.get(f'{pushshift_url}/?subreddit={subreddit_name}&sort=desc&sort_type=created_utc&before={before_time}&size={max_entries}')\n",
    "            output = req.json()\n",
    "            should_retry = False\n",
    "        except:\n",
    "            print(f'retrying post...')\n",
    "            time.sleep(5)\n",
    "            should_retry = True\n",
    "    return output\n",
    "\n",
    "def get_comments(pushshift_url, comment_id, max_size=100):\n",
    "    should_retry = True\n",
    "    while should_retry:\n",
    "        try:\n",
    "            req = requests.get(f'{pushshift_url}/?link_id={comment_id}&limit={max_size}')\n",
    "            output = req.json()\n",
    "            should_retry = False\n",
    "        except:\n",
    "            print(f'retrying comment {comment_id}...')\n",
    "            time.sleep(5)\n",
    "            should_retry = True\n",
    "    return output"
   ],
   "outputs": [],
   "metadata": {}
  },
  {
   "cell_type": "markdown",
   "source": [
    "## URLs and so on\n",
    "\n",
    "Define needed constants."
   ],
   "metadata": {}
  },
  {
   "cell_type": "code",
   "execution_count": null,
   "source": [
    "pushshift_post_url = 'https://api.pushshift.io/reddit/search/submission'\n",
    "pushshift_comment_url = 'https://api.pushshift.io/reddit/comment/search'\n",
    "subreddit_name = 'migraine'\n",
    "max_entries = 10"
   ],
   "outputs": [],
   "metadata": {}
  },
  {
   "cell_type": "markdown",
   "source": [
    "## Get Posts\n",
    "\n",
    "Get posts and comments associated with each post.  For each post store the comments in new field `comments` as a mongodb embedded array.\n"
   ],
   "metadata": {}
  },
  {
   "cell_type": "code",
   "execution_count": null,
   "source": [
    "before_time = int(time.time())  # current epoch time\n",
    "total_posts = 0\n",
    "\n",
    "def get_page_of_posts(before_time):\n",
    "    posts = get_posts(pushshift_post_url, subreddit_name, before_time, max_entries)\n",
    "    data = posts.get('data', [])\n",
    "\n",
    "    for entry in data:\n",
    "        comment_id = entry['id']\n",
    "        # print(f'comment id: {comment_id}')\n",
    "        comments = get_comments(pushshift_comment_url, comment_id)\n",
    "        entry['comments'] = comments['data']\n",
    "        time.sleep(1)\n",
    "    return data\n",
    "\n",
    "try:\n",
    "    for _ in range(1000):\n",
    "        posts = get_page_of_posts(before_time)\n",
    "        for post in posts:\n",
    "            db['posts'].insert_one(post)\n",
    "        total_posts += len(posts)\n",
    "        print(f'Inserted {len(posts)} posts... Total posts so far: {total_posts}')\n",
    "        print(f'Last before time: {before_time}')\n",
    "        before_time = posts[len(posts) - 1]['created_utc']\n",
    "        print(f'Next before time: {before_time}')\n",
    "        time.sleep(1)\n",
    "except Exception as e:\n",
    "    print(f'ERROR - {e}')\n",
    "    print(f'Last before_time: {before_time}')\n",
    "\n",
    "print(f'Done.  Total new posts: {total_posts}')"
   ],
   "outputs": [],
   "metadata": {}
  },
  {
   "cell_type": "markdown",
   "source": [
    "## Sample Output from the Script Above\n",
    "\n",
    "- Inserted 10 posts... Total posts so far: 10000\n",
    "- Last before time: 1610935950\n",
    "- Next before time: 1610921799\n",
    "- Done.  Total new posts: 10000\n"
   ],
   "metadata": {}
  },
  {
   "cell_type": "markdown",
   "source": [
    "## Sample Post Object Stored in Database\n",
    "\n",
    "```\n",
    "(migraine-data-reddit-WM5Df_6q-py3.9) pop-os:migraine_data_reddit (main)$ mongo localhost:37017\n",
    "MongoDB shell version v3.6.8\n",
    "connecting to: mongodb://localhost:37017/test\n",
    "Implicit session: session { \"id\" : UUID(\"03e7792d-79f8-48ac-952e-2ae6f41df644\") }\n",
    "MongoDB server version: 5.0.3\n",
    "WARNING: shell and server versions do not match\n",
    "Server has startup warnings: \n",
    "{\"t\":{\"$date\":\"2021-10-05T14:15:33.836+00:00\"},\"s\":\"I\",  \"c\":\"STORAGE\",  \"id\":22297,   \"ctx\":\"initandlisten\",\"msg\":\"Using the XFS filesystem is strongly recommended with the WiredTiger storage engine. See http://dochub.mongodb.org/core/prodnotes-filesystem\",\"tags\":[\"startupWarnings\"]}\n",
    "{\"t\":{\"$date\":\"2021-10-05T14:15:34.656+00:00\"},\"s\":\"W\",  \"c\":\"CONTROL\",  \"id\":22120,   \"ctx\":\"initandlisten\",\"msg\":\"Access control is not enabled for the database. Read and write access to data and configuration is unrestricted\",\"tags\":[\"startupWarnings\"]}\n",
    "> show dbs\n",
    "admin            0.000GB\n",
    "config           0.000GB\n",
    "local            0.000GB\n",
    "reddit-migraine  0.050GB\n",
    "> use reddit-migraine\n",
    "switched to db reddit-migraine\n",
    "> show collections\n",
    "posts\n",
    "> db.posts.find({'id': 'q0y7zp'}).pretty()\n",
    "{\n",
    "        \"_id\" : ObjectId(\"615c75dbca14f5e967ca7722\"),\n",
    "        \"all_awardings\" : [ ],\n",
    "        \"allow_live_comments\" : false,\n",
    "        \"author\" : \"Potential_Brain1064\",\n",
    "        \"author_flair_css_class\" : null,\n",
    "        \"author_flair_richtext\" : [ ],\n",
    "        \"author_flair_text\" : null,\n",
    "        \"author_flair_type\" : \"text\",\n",
    "        \"author_fullname\" : \"t2_cdn7qja7\",\n",
    "        \"author_is_blocked\" : false,\n",
    "        \"author_patreon_flair\" : false,\n",
    "        \"author_premium\" : false,\n",
    "        \"awarders\" : [ ],\n",
    "        \"can_mod_post\" : false,\n",
    "        \"contest_mode\" : false,\n",
    "        \"created_utc\" : 1633321442,\n",
    "        \"domain\" : \"self.migraine\",\n",
    "        \"full_link\" : \"https://www.reddit.com/r/migraine/comments/q0y7zp/how_do_you_cope_with_the_pre_migraine_mood_swings/\",\n",
    "        \"gildings\" : {\n",
    "\n",
    "        },\n",
    "        \"id\" : \"q0y7zp\",\n",
    "        \"is_created_from_ads_ui\" : false,\n",
    "        \"is_crosspostable\" : true,\n",
    "        \"is_meta\" : false,\n",
    "        \"is_original_content\" : false,\n",
    "        \"is_reddit_media_domain\" : false,\n",
    "        \"is_robot_indexable\" : true,\n",
    "        \"is_self\" : true,\n",
    "        \"is_video\" : false,\n",
    "        \"link_flair_background_color\" : \"\",\n",
    "        \"link_flair_richtext\" : [ ],\n",
    "        \"link_flair_text_color\" : \"dark\",\n",
    "        \"link_flair_type\" : \"text\",\n",
    "        \"locked\" : false,\n",
    "        \"media_only\" : false,\n",
    "        \"no_follow\" : true,\n",
    "        \"num_comments\" : 1,\n",
    "        \"num_crossposts\" : 0,\n",
    "        \"over_18\" : false,\n",
    "        \"parent_whitelist_status\" : \"no_ads\",\n",
    "        \"permalink\" : \"/r/migraine/comments/q0y7zp/how_do_you_cope_with_the_pre_migraine_mood_swings/\",\n",
    "        \"pinned\" : false,\n",
    "        \"pwls\" : 0,\n",
    "        \"retrieved_on\" : 1633321453,\n",
    "        \"score\" : 1,\n",
    "        \"selftext\" : \"Some days I can rapidly alternate between amazingly energetic and depressed and then I come down with a migraine. It’s awful. It’s distressing for me and those around me. Not to mention the mood swings I have in between (do I have them or is it still related to migraine? Is this just how normal people feel?) I’m so sick of this. I hate feeling happy and energetic and motivated and knowing that there’s a 9/10 chance that I’ll feel like utter shit in a few hours. How do I deal with this?\",\n",
    "        \"send_replies\" : true,\n",
    "        \"spoiler\" : false,\n",
    "        \"stickied\" : false,\n",
    "        \"subreddit\" : \"migraine\",\n",
    "        \"subreddit_id\" : \"t5_2qr75\",\n",
    "        \"subreddit_subscribers\" : 81975,\n",
    "        \"subreddit_type\" : \"public\",\n",
    "        \"thumbnail\" : \"self\",\n",
    "        \"title\" : \"How do you cope with the pre migraine mood swings?\",\n",
    "        \"total_awards_received\" : 0,\n",
    "        \"treatment_tags\" : [ ],\n",
    "        \"upvote_ratio\" : 1,\n",
    "        \"url\" : \"https://www.reddit.com/r/migraine/comments/q0y7zp/how_do_you_cope_with_the_pre_migraine_mood_swings/\",\n",
    "        \"whitelist_status\" : \"no_ads\",\n",
    "        \"wls\" : 0,\n",
    "        \"comments\" : [\n",
    "                {\n",
    "                        \"all_awardings\" : [ ],\n",
    "                        \"approved_at_utc\" : null,\n",
    "                        \"associated_award\" : null,\n",
    "                        \"author\" : \"Somegirlfromky\",\n",
    "                        \"author_flair_background_color\" : null,\n",
    "                        \"author_flair_css_class\" : null,\n",
    "                        \"author_flair_richtext\" : [ ],\n",
    "                        \"author_flair_template_id\" : null,\n",
    "                        \"author_flair_text\" : null,\n",
    "                        \"author_flair_text_color\" : null,\n",
    "                        \"author_flair_type\" : \"text\",\n",
    "                        \"author_fullname\" : \"t2_f17fnigw\",\n",
    "                        \"author_is_blocked\" : false,\n",
    "                        \"author_patreon_flair\" : false,\n",
    "                        \"author_premium\" : false,\n",
    "                        \"awarders\" : [ ],\n",
    "                        \"banned_at_utc\" : null,\n",
    "                        \"body\" : \"I do the same thing. My diagnosis is chronic migraine and I haven't found relief yet. I wish I had some better info for you with advice.\",\n",
    "                        \"can_mod_post\" : false,\n",
    "                        \"collapsed\" : false,\n",
    "                        \"collapsed_because_crowd_control\" : null,\n",
    "                        \"collapsed_reason\" : null,\n",
    "                        \"collapsed_reason_code\" : null,\n",
    "                        \"comment_type\" : null,\n",
    "                        \"created_utc\" : 1633322159,\n",
    "                        \"distinguished\" : null,\n",
    "                        \"edited\" : false,\n",
    "                        \"gildings\" : {\n",
    "\n",
    "                        },\n",
    "                        \"id\" : \"hfbdqpq\",\n",
    "                        \"is_submitter\" : false,\n",
    "                        \"link_id\" : \"t3_q0y7zp\",\n",
    "                        \"locked\" : false,\n",
    "                        \"no_follow\" : false,\n",
    "                        \"parent_id\" : \"t3_q0y7zp\",\n",
    "                        \"permalink\" : \"/r/migraine/comments/q0y7zp/how_do_you_cope_with_the_pre_migraine_mood_swings/hfbdqpq/\",\n",
    "                        \"retrieved_on\" : 1633449204,\n",
    "                        \"score\" : 5,\n",
    "                        \"send_replies\" : true,\n",
    "                        \"stickied\" : false,\n",
    "                        \"subreddit\" : \"migraine\",\n",
    "                        \"subreddit_id\" : \"t5_2qr75\",\n",
    "                        \"top_awarded_type\" : null,\n",
    "                        \"total_awards_received\" : 0,\n",
    "                        \"treatment_tags\" : [ ],\n",
    "                        \"unrepliable_reason\" : null\n",
    "                }\n",
    "        ]\n",
    "}\n",
    "> \n",
    "```"
   ],
   "metadata": {}
  },
  {
   "cell_type": "markdown",
   "source": [
    "## From Database to Other Formats\n",
    "\n",
    "Once we have all of the data in database we can select the data and/or fields that we are interested in and convert them to other formats.  Following is the example of storying all posts and comments in CSV format with only fields of interest:\n",
    "\n",
    "| Type | Parent | Author | Text | Title |\n",
    "| ---- | ------ | ------ | ---- | ----- |\n",
    "| P/C  |   id   | userid | text | text  |\n",
    "\n",
    "- Type - P for post or C for comment\n",
    "- Parent - own id for post or value of `parent_id` in comment structure without `t3_` prefix\n",
    "- Author - userid\n",
    "- Text - for posts value from `selftext` and for comment value from `body`\n",
    "- Title - title of the post"
   ],
   "metadata": {}
  },
  {
   "cell_type": "code",
   "execution_count": null,
   "source": [
    "import csv\n",
    "from tqdm import tqdm"
   ],
   "outputs": [],
   "metadata": {}
  },
  {
   "cell_type": "code",
   "execution_count": null,
   "source": [
    "migraine_file_name = 'reddis_migraine_posts.csv'"
   ],
   "outputs": [],
   "metadata": {}
  },
  {
   "cell_type": "code",
   "execution_count": null,
   "source": [
    "def process_comments(comments, title, parent_id):\n",
    "    return [{\n",
    "            'Type': 'C',\n",
    "            'Parent': parent_id,\n",
    "            'Author': comment['author'],\n",
    "            'Text': comment['body'],\n",
    "            'Title': title\n",
    "            } for comment in comments]\n",
    "        \n",
    "\n",
    "def process_post(post):\n",
    "    entries = [{\n",
    "        'Type': 'P',\n",
    "        'Parent': post['id'],\n",
    "        'Author': post['author'],\n",
    "        'Text': post.get('selftext', ''),\n",
    "        'Title': post['title']\n",
    "    }]\n",
    "    entries.extend(process_comments(\n",
    "        post['comments'],\n",
    "        post['title'],\n",
    "        post['id']))\n",
    "    return entries\n",
    "\n",
    "created_header = False\n",
    "posts_count = db['posts'].count_documents({})\n",
    "with tqdm(total=posts_count, desc=\"Progress\") as pbar:\n",
    "    with open(f'data/{migraine_file_name}', 'w') as posts_file:\n",
    "        field_names = ['Type', 'Parent', 'Author', 'Text', 'Title']\n",
    "        csv_writer = csv.DictWriter(posts_file, fieldnames=field_names)\n",
    "        for post in db['posts'].find():\n",
    "            entries = process_post(post)\n",
    "            if not created_header and len(entries) > 0:\n",
    "                csv_writer.writeheader()\n",
    "                created_header = True\n",
    "            for entry in entries:\n",
    "                csv_writer.writerow(entry)\n",
    "                pbar.update(1)"
   ],
   "outputs": [],
   "metadata": {}
  },
  {
   "cell_type": "markdown",
   "source": [
    "## Sample Output\n",
    "\n",
    "```\n",
    "Type,Parent,Author,Text,Title\n",
    "P,q1pdf8,Conscious_Escape_408,I've been awake the entire night with the worst migraine I have ever had. Im a long time sufferer but this one is different. My thinking is more impaired than usual and my blood pressure is 150/111. I need to call out sick from work but I'm so afraid of getting in trouble. I'm afraid to go to hospital emergency room with the number of COVID cases in my area. I don't know what to do.,Worst I've ever had/calling in sick\n",
    "P,q1p2lt,Sia-King,\"Hey y’all, I got a referral for a neurologist and while I’m waiting on it, I’ve decided to trial another preventative. I’ve tried Topomax (was on it 2 weeks, couldn’t handle the side effects), currently on Sandomigran (been on it for 19 months, stopped working 9 months in but I continued w it because I didn’t want to accept it wasn’t working 😭 when it did work, it was bloody amazing. While I can increase the dosage for effectiveness, I can barely handle the fatigue it gives). \n",
    "\n",
    "I have asthma and take venlafaxine for depression &amp; anxiety btw. My GP said this means my options are more limited for preventatives. \n",
    "\n",
    "Any suggestions for preventatives?? I’ll check if my GP is happy to prescribe. TIA :))\",What preventative to trial next? (Asthmatic &amp; take venlafaxine)\n",
    "P,q1otox,netluv,It’s day two night two of a migraine. I’ve maxed out on my Ubrevly and am just angry. I don’t want to go to the hospital because I have underlying health conditions and there’s Covid. Just needing to vent before I try to fall asleep.,Pain\n",
    "\n",
    "```"
   ],
   "metadata": {}
  },
  {
   "cell_type": "markdown",
   "source": [
    "## Web Scraping Migraine.com\n",
    "\n",
    "So far we showed how we can get data from pushshift.io.  However, we can perform similar steps with the data gathered by scraping migraine.com.  Here is code snippet to retrieve that data:"
   ],
   "metadata": {}
  },
  {
   "cell_type": "code",
   "execution_count": null,
   "source": [
    "from selenium import webdriver\n",
    "from bs4 import BeautifulSoup\n",
    "import os\n",
    "\n",
    "\n",
    "PROJECT_ROOT = os.path.abspath(os.path.dirname(__file__))\n",
    "DRIVER_BIN = os.path.join(PROJECT_ROOT, \"./chromedriver\")\n",
    "\n",
    "pages = []\n",
    "header = {}\n",
    "bodies = {}\n",
    "tags = {}\n",
    "\n",
    "driver = webdriver.Chrome(executable_path=DRIVER_BIN)\n",
    "root = 'https://migraine.com'\n",
    "for i in range(1):\n",
    "    driver.get('https://migraine.com/forums?page={}'.format(i+1))\n",
    "    content = driver.page_source\n",
    "    soup = BeautifulSoup(content, features=\"html.parser\")\n",
    "    for a in soup.findAll(\n",
    "            'a', href=True,\n",
    "            attrs={'class': \"thread-teaser__heading-link\"}):\n",
    "        pages.append(a['href'])\n",
    "for page in pages:\n",
    "    webpage = root + page\n",
    "    driver.get(webpage)\n",
    "    content = driver.page_source\n",
    "    soup = BeautifulSoup(content, features=\"html.parser\")\n",
    "    for a in soup.findAll('h1', attrs={'class': \"forum-thread__heading\"}):\n",
    "        header[webpage] = a.text\n",
    "    for a in soup.findAll('div', attrs={'class': \"forum-thread__body\"}):\n",
    "        bodies[webpage] = a.text\n",
    "    tags[webpage] = []\n",
    "    for a in soup.findAll(href=True, attrs={'class': \"tags-list__tag-link\"}):\n",
    "        tags[webpage].append(a.text)\n",
    "input('Press ENTER to close the automated browser')\n",
    "driver.quit()\n",
    "print(webpage)\n",
    "print()\n",
    "print(header[webpage])\n",
    "print()\n",
    "print(bodies[webpage])\n",
    "print()\n",
    "print(tags[webpage])\n",
    "print()\n"
   ],
   "outputs": [],
   "metadata": {}
  },
  {
   "cell_type": "markdown",
   "source": [
    "## Sample Output from Above Script\n",
    "\n",
    "```\n",
    "(migraine-data-reddit-WM5Df_6q-py3.9) pop-os:migraine_data_reddit (main)$ python migraine.com_data.py \n",
    "Press ENTER to close the automated browser\n",
    "https://migraine.com/forums/nurtec-prophylaxis-weakens-w-time\n",
    "\n",
    " Nurtec prophylaxis weakens w time \n",
    "\n",
    "I tried the new gepant, Rimegepant (Nurtec). The 1st time I took it I had a modicum of pain relief for about 36 hrs. The 2nd time it lasted less than 24 hrs. The 3rd time, less than 12 hrs. Now it doesn't work at all. Anyone else experience this?\n",
    "\n",
    "\n",
    "[]\n",
    "\n",
    "(migraine-data-reddit-WM5Df_6q-py3.9) pop-os:migraine_data_reddit (main)$ \n",
    "```"
   ],
   "metadata": {}
  },
  {
   "cell_type": "markdown",
   "source": [
    "# Further Data Cleaning\n",
    "\n",
    "At this point we have convenient way to store and access raw data but it is still in the text format and therefore very unstructured.\n",
    "\n",
    "We spent some time reading different posts and looking for some patterns in the text as well data representation.\n",
    "\n",
    "Some things that we identified:\n",
    "\n",
    "- It would be really useful to identify gender of the author of the post and store that information along with other data.  Migraine.com posts contain user names.  We found that [NLTK documentation](https://www.nltk.org/book/ch06.html) has great example of classifying gender based on names.  This looks promising and we think we could use it to get gender associated with the post.\n",
    "- Reddit makes up user names so gender cannot be determined from user name.  We did find a [Kaggle project on gender classification from Twitter posts](https://www.kaggle.com/evilport/classify-gender-with-description-and-text/notebook) which could be applied to subreddit posts.  This also could turn into a project of its own but might be worth a try.  In addition, we could check text for some hints like `my wife` or `my husband` to try to help with gender classification.\n",
    "- Some of the most common topics relate to medications used, use of caffeine, sleep issues and so on.  Those look like great topics to capture.  For example, sentiment analysis of medications could lead to learning about effectiveness of medication for given condition for male or female.\n",
    "- Migrain subreddit contains sporadic rants that sometimes seem to have very little to do with migraines or don't provide any useful information.  We should attempt to filter those out.\n",
    "- There is good number of posts related to effects of migraine on personal life, work, and family.  There is a lot of good information in those posts related to depression, suicide, and mental health in general.  It would be great to filter those out and identify some patterns we could extract.\n"
   ],
   "metadata": {}
  },
  {
   "cell_type": "markdown",
   "source": [
    "# Topic Modeling\n",
    "\n",
    "In addition to manual reading of the documents we wanted to see if there is a way to automate topic discovery.  We found that there are number of algorithms that could help.  One algorithm that caught our attentin is [Latent Dirichlet Allocation (LDA)](http://blog.echen.me/2011/08/22/introduction-to-latent-dirichlet-allocation/). It is a statistical modeling for discovering the abstract topics that occur in a collection of documents.  It builds a topic per document model and words per topic model, modeled as Dirichlet distributions.\n",
    "\n",
    "References:\n",
    "[Topic Modeling and Latent Dirichlet Allocation (LDA) in Python](https://towardsdatascience.com/topic-modeling-and-latent-dirichlet-allocation-in-python-9bf156893c24)"
   ],
   "metadata": {}
  },
  {
   "cell_type": "markdown",
   "source": [
    "## Topic Extraction from Post Titles\n",
    "\n",
    "Based on the article mentioned above we decided to tried to discover topics using LDA.\n",
    "\n",
    "## Create Title Dataset\n",
    "\n",
    "First we created list of titles out of the CSV file we got before."
   ],
   "metadata": {}
  },
  {
   "cell_type": "code",
   "execution_count": null,
   "source": [
    "migraine_titles = []\n",
    "header = []\n",
    "\n",
    "read_header = False\n",
    "with open(f'data/{migraine_file_name}', 'r') as csv_file:\n",
    "    csv_reader = csv.reader(csv_file)\n",
    "    for entry in csv_reader:\n",
    "        if not read_header:\n",
    "            header = entry\n",
    "            read_header = True\n",
    "        else:\n",
    "            # comments have the same titles as posts so just ignore them\n",
    "            if entry[header.index('Type')] == 'P':\n",
    "                migraine_titles.append(entry[header.index('Title')])\n",
    "\n",
    "print(len(migraine_titles))\n",
    "print(migraine_titles[:10])"
   ],
   "outputs": [],
   "metadata": {}
  },
  {
   "cell_type": "markdown",
   "source": [
    "## Sample Output\n",
    "\n",
    "```\n",
    "10000\n",
    "[\"Worst I've ever had/calling in sick\", 'What preventative to trial next? (Asthmatic &amp; take venlafaxine)', 'Pain', 'Pain vs Relationship', 'Reminder: Birth Control With Estrogen Causes Increased Risk of Stroke', 'New to this and wondering if others experience similar symptoms, including tinnitus?', 'Relatable or should I be worried', 'Does anyone else struggle with shaking hands?', 'Just upset', 'Non standard remedies for migraines']\n",
    "```"
   ],
   "metadata": {}
  },
  {
   "cell_type": "markdown",
   "source": [
    "# Title Pre-processing\n",
    "\n",
    "- Tokenization - text is split into sentences and sentences into words.\n",
    "- Remove short words - words 3 character or less are removed.\n",
    "- Stopwords - all stopwords removed.\n",
    "- Lemmatized\n",
    "- Stemmed\n"
   ],
   "metadata": {}
  },
  {
   "cell_type": "code",
   "execution_count": null,
   "source": [
    "import gensim\n",
    "from gensim.utils import simple_preprocess\n",
    "from gensim.parsing.preprocessing import STOPWORDS\n",
    "from nltk.stem import WordNetLemmatizer, SnowballStemmer\n",
    "from nltk.stem.porter import *\n",
    "\n",
    "import nltk\n",
    "nltk.download('wordnet')"
   ],
   "outputs": [],
   "metadata": {}
  },
  {
   "cell_type": "code",
   "execution_count": null,
   "source": [
    "def lemmatize_stemming(text):\n",
    "    return stemmer.stem(WordNetLemmatizer().lemmatize(text, pos='v'))\n",
    "\n",
    "def preprocess(text):\n",
    "    return [token for token in simple_preprocess(text) if token not in STOPWORDS and len(token) > 3]"
   ],
   "outputs": [],
   "metadata": {}
  },
  {
   "cell_type": "code",
   "execution_count": null,
   "source": [
    "processed_titles = [elem for elem in map(preprocess, migraine_titles) if len(elem)]\n",
    "\n",
    "print(processed_titles[:10])"
   ],
   "outputs": [],
   "metadata": {}
  },
  {
   "cell_type": "markdown",
   "source": [
    "# Sample Output\n",
    "\n",
    "```\n",
    "[['worst', 'calling', 'sick'], ['preventative', 'trial', 'asthmatic', 'venlafaxine'], ['pain'], ['pain', 'relationship'], ['reminder', 'birth', 'control', 'estrogen', 'causes', 'increased', 'risk', 'stroke'], ['wondering', 'experience', 'similar', 'symptoms', 'including', 'tinnitus'], ['relatable', 'worried'], ['struggle', 'shaking', 'hands'], ['upset'], ['standard', 'remedies', 'migraines']]\n",
    "```"
   ],
   "metadata": {}
  },
  {
   "cell_type": "code",
   "execution_count": null,
   "source": [
    "title_dict = gensim.corpora.Dictionary(processed_titles)\n",
    "\n",
    "count = 0\n",
    "for k, v in title_dict.iteritems():\n",
    "    print(k, v)\n",
    "    count += 1\n",
    "    if count > 10:\n",
    "        break"
   ],
   "outputs": [],
   "metadata": {}
  },
  {
   "cell_type": "markdown",
   "source": [
    "```\n",
    "0 calling\n",
    "1 sick\n",
    "2 worst\n",
    "3 asthmatic\n",
    "4 preventative\n",
    "5 trial\n",
    "6 venlafaxine\n",
    "7 pain\n",
    "8 relationship\n",
    "9 birth\n",
    "10 causes\n",
    "```"
   ],
   "metadata": {}
  },
  {
   "cell_type": "markdown",
   "source": [
    "# Filter out Extremes\n"
   ],
   "metadata": {}
  },
  {
   "cell_type": "code",
   "execution_count": null,
   "source": [
    "title_dict.filter_extremes(no_below=15, no_above=0.5, keep_n=1000)"
   ],
   "outputs": [],
   "metadata": {}
  },
  {
   "cell_type": "markdown",
   "source": [
    "# Gensim doc2bow for titles\n"
   ],
   "metadata": {}
  },
  {
   "cell_type": "code",
   "execution_count": null,
   "source": [
    "bow_titles = [title_dict.doc2bow(doc) for doc in processed_titles]\n",
    "\n",
    "print(bow_titles[0])\n",
    "\n",
    "for i in range(len(bow_titles[0])):\n",
    "    print(f'Word {bow_titles[0][i]}  (\"{title_dict[bow_titles[0][i][0]]}\") appears {bow_titles[0][i][1]} time(s).')"
   ],
   "outputs": [],
   "metadata": {}
  },
  {
   "cell_type": "markdown",
   "source": [
    "```\n",
    "[(0, 1), (1, 1)]\n",
    "Word (0, 1)  (\"sick\") appears 1 time(s).\n",
    "Word (1, 1)  (\"worst\") appears 1 time(s).\n",
    "```"
   ],
   "metadata": {}
  },
  {
   "cell_type": "markdown",
   "source": [
    "# TF-IDF for titles\n"
   ],
   "metadata": {}
  },
  {
   "cell_type": "code",
   "execution_count": null,
   "source": [
    "from gensim import corpora, models\n",
    "\n",
    "tfidf = models.TfidfModel(bow_titles)\n",
    "titles_tfidf = tfidf[bow_titles]\n",
    "\n",
    "for doc in titles_tfidf:\n",
    "    pprint.pprint(doc)\n",
    "    break"
   ],
   "outputs": [],
   "metadata": {}
  },
  {
   "cell_type": "markdown",
   "source": [
    "```\n",
    "[(0, 0.7177268263227299), (1, 0.6963247825380781)]\n",
    "```"
   ],
   "metadata": {}
  },
  {
   "cell_type": "markdown",
   "source": [
    "# BOW LDA for titles\n"
   ],
   "metadata": {}
  },
  {
   "cell_type": "code",
   "execution_count": null,
   "source": [
    "lda_model_titles = gensim.models.LdaMulticore(bow_titles, num_topics=10, id2word=title_dict, passes=2, workers=2)"
   ],
   "outputs": [],
   "metadata": {}
  },
  {
   "cell_type": "code",
   "execution_count": null,
   "source": [
    "for idx, topic in lda_model_titles.print_topics():\n",
    "    print(f'Topic {idx}: Words: {topic}')"
   ],
   "outputs": [],
   "metadata": {}
  },
  {
   "cell_type": "markdown",
   "source": [
    "```\n",
    "Topic 0: Words: 0.344*\"migraine\" + 0.026*\"like\" + 0.024*\"feel\" + 0.014*\"days\" + 0.013*\"tried\" + 0.013*\"headache\" + 0.010*\"symptoms\" + 0.010*\"know\" + 0.010*\"aura\" + 0.010*\"relief\"\n",
    "Topic 1: Words: 0.057*\"time\" + 0.055*\"migraine\" + 0.040*\"advice\" + 0.034*\"like\" + 0.032*\"topamax\" + 0.031*\"sumatriptan\" + 0.031*\"aura\" + 0.028*\"question\" + 0.025*\"migraines\" + 0.020*\"experience\"\n",
    "Topic 2: Words: 0.048*\"migraines\" + 0.042*\"aimovig\" + 0.032*\"effects\" + 0.029*\"good\" + 0.027*\"head\" + 0.025*\"migraine\" + 0.023*\"headache\" + 0.016*\"amitriptyline\" + 0.015*\"rant\" + 0.013*\"advice\"\n",
    "Topic 3: Words: 0.105*\"migraine\" + 0.087*\"headaches\" + 0.033*\"migraines\" + 0.021*\"week\" + 0.020*\"medication\" + 0.019*\"long\" + 0.019*\"auras\" + 0.019*\"tension\" + 0.018*\"headache\" + 0.018*\"anybody\"\n",
    "Topic 4: Words: 0.062*\"migraine\" + 0.036*\"nurtec\" + 0.026*\"control\" + 0.023*\"migraines\" + 0.023*\"works\" + 0.022*\"help\" + 0.022*\"best\" + 0.022*\"weird\" + 0.020*\"pain\" + 0.020*\"birth\"\n",
    "Topic 5: Words: 0.123*\"pain\" + 0.051*\"migraine\" + 0.041*\"work\" + 0.040*\"headache\" + 0.034*\"head\" + 0.024*\"neck\" + 0.023*\"chronic\" + 0.020*\"migraines\" + 0.018*\"going\" + 0.016*\"weeks\"\n",
    "Topic 6: Words: 0.285*\"migraines\" + 0.040*\"migraine\" + 0.018*\"like\" + 0.016*\"help\" + 0.014*\"having\" + 0.014*\"trigger\" + 0.012*\"neurologist\" + 0.012*\"chronic\" + 0.012*\"weather\" + 0.011*\"aura\"\n",
    "Topic 7: Words: 0.064*\"botox\" + 0.060*\"help\" + 0.051*\"headache\" + 0.028*\"feeling\" + 0.023*\"triptan\" + 0.021*\"today\" + 0.018*\"taking\" + 0.016*\"like\" + 0.016*\"sleep\" + 0.015*\"think\"\n",
    "Topic 8: Words: 0.086*\"migraines\" + 0.038*\"getting\" + 0.035*\"migraine\" + 0.031*\"emgality\" + 0.025*\"aura\" + 0.020*\"meds\" + 0.017*\"pressure\" + 0.017*\"scared\" + 0.015*\"need\" + 0.013*\"working\"\n",
    "Topic 9: Words: 0.111*\"migraines\" + 0.068*\"migraine\" + 0.027*\"vaccine\" + 0.024*\"covid\" + 0.024*\"treatment\" + 0.021*\"doctor\" + 0.019*\"post\" + 0.018*\"worse\" + 0.017*\"life\" + 0.016*\"trigger\"\n",
    "```"
   ],
   "metadata": {}
  },
  {
   "cell_type": "markdown",
   "source": [
    "# TF-IDF LDA for titles\n"
   ],
   "metadata": {}
  },
  {
   "cell_type": "code",
   "execution_count": null,
   "source": [
    "lda_model_titles_tfidf = gensim.models.LdaMulticore(titles_tfidf, num_topics=10, id2word=title_dict, passes=2, workers=4)"
   ],
   "outputs": [],
   "metadata": {}
  },
  {
   "cell_type": "code",
   "execution_count": null,
   "source": [
    "for idx, topic in lda_model_titles_tfidf.print_topics():\n",
    "    print(f'Topic {idx}: Word: {topic}')"
   ],
   "outputs": [],
   "metadata": {}
  },
  {
   "cell_type": "markdown",
   "source": [
    "```\n",
    "Topic 0: Word: 0.152*\"migraines\" + 0.064*\"migraine\" + 0.039*\"feel\" + 0.036*\"like\" + 0.022*\"head\" + 0.021*\"having\" + 0.015*\"people\" + 0.014*\"food\" + 0.013*\"related\" + 0.012*\"silent\"\n",
    "Topic 1: Word: 0.038*\"migraine\" + 0.035*\"tried\" + 0.031*\"migraines\" + 0.029*\"topamax\" + 0.027*\"today\" + 0.027*\"life\" + 0.025*\"headaches\" + 0.024*\"emgality\" + 0.023*\"doctor\" + 0.019*\"helped\"\n",
    "Topic 2: Word: 0.040*\"headaches\" + 0.034*\"neurologist\" + 0.030*\"treatment\" + 0.026*\"migraine\" + 0.022*\"post\" + 0.020*\"triptans\" + 0.018*\"eyes\" + 0.018*\"migraines\" + 0.017*\"chronic\" + 0.016*\"pain\"\n",
    "Topic 3: Word: 0.117*\"migraines\" + 0.090*\"headache\" + 0.024*\"worse\" + 0.021*\"tension\" + 0.020*\"migraine\" + 0.016*\"chronic\" + 0.014*\"causing\" + 0.013*\"loss\" + 0.013*\"headaches\" + 0.013*\"tired\"\n",
    "Topic 4: Word: 0.204*\"migraine\" + 0.044*\"feeling\" + 0.016*\"week\" + 0.015*\"like\" + 0.014*\"free\" + 0.013*\"think\" + 0.012*\"month\" + 0.012*\"looking\" + 0.012*\"good\" + 0.012*\"migraines\"\n",
    "Topic 5: Word: 0.047*\"botox\" + 0.038*\"trigger\" + 0.035*\"aimovig\" + 0.029*\"brain\" + 0.027*\"nurtec\" + 0.027*\"topamax\" + 0.022*\"migraines\" + 0.021*\"sleep\" + 0.020*\"migraine\" + 0.017*\"triptan\"\n",
    "Topic 6: Word: 0.033*\"migraine\" + 0.026*\"days\" + 0.025*\"experience\" + 0.024*\"aura\" + 0.024*\"time\" + 0.022*\"ubrelvy\" + 0.022*\"getting\" + 0.021*\"visual\" + 0.019*\"imitrex\" + 0.019*\"migraines\"\n",
    "Topic 7: Word: 0.090*\"migraine\" + 0.052*\"aura\" + 0.034*\"advice\" + 0.027*\"question\" + 0.026*\"need\" + 0.025*\"chronic\" + 0.022*\"going\" + 0.022*\"amitriptyline\" + 0.018*\"headache\" + 0.018*\"attack\"\n",
    "Topic 8: Word: 0.061*\"pain\" + 0.033*\"migraine\" + 0.027*\"work\" + 0.025*\"meds\" + 0.025*\"migraines\" + 0.024*\"years\" + 0.023*\"help\" + 0.019*\"medication\" + 0.018*\"rebound\" + 0.016*\"weather\"\n",
    "Topic 9: Word: 0.066*\"help\" + 0.032*\"migraine\" + 0.032*\"migraines\" + 0.027*\"know\" + 0.023*\"rant\" + 0.020*\"triggered\" + 0.020*\"sumatriptan\" + 0.019*\"vaccine\" + 0.017*\"working\" + 0.017*\"triggers\"\n",
    "```"
   ],
   "metadata": {}
  },
  {
   "cell_type": "markdown",
   "source": [
    "# Topic Modeling Conclusions\n",
    "\n",
    "Looking at the output from LDA topic modeling we realized that further data preprocessing could prove useful.  For example, word `migraine` doesn't bring anything new to the discovery so we could remove along with other words during the preprocessing.\n",
    "\n",
    "However, even without these extra steps the resulting topics are pointing into similar direction as our manual discovery:\n",
    "\n",
    "- types of medicine used - sentiment, most talked about, most side-effects, most interest\n",
    "- effects of sleep\n",
    "- effects of caffeine\n",
    "- visual/eyes issues\n",
    "- triggers\n",
    "- possibly migraine length"
   ],
   "metadata": {}
  },
  {
   "cell_type": "markdown",
   "source": [
    "# Proof of Concept for Retrieving Information Related to Medications\n",
    "\n",
    "To further demonstrate how our data can be used to create structured dataset we focussed on just migraine medication.  Here we would like to show that we can retrieve the information about the medication, it uses, and user's sentiment.  Such dataset could allow analysis of what medications are most useful or preferred by people suffering from migraines and under what circumstances.\n",
    "\n",
    "We first started by searching for most common drugs used for migraine.  We found that information on this [website](https://www.healthgrades.com/right-care/migraine-and-headache/12-drugs-commonly-prescribed-for-migraine)"
   ],
   "metadata": {}
  },
  {
   "cell_type": "markdown",
   "source": [
    "# Migraine Drug Classes\n",
    "\n",
    "The classes of acute treatment migraine drugs include:\n",
    "\n",
    "- **Analgesics** treat pain and include both over-the-counter and prescription medicines.\n",
    "- **Ergots** work to balance brain chemicals and constrict blood vessels. Nausea is a common side effect.\n",
    "- **Triptans** work in much the same way as ergots. However, they are more specific for migraine. Common side effects may include flushing, tingling, sleepiness, and throat or chest tightness.\n",
    "- **Small molecule CGRP blockers** are not approved to prevent migraine but are effective for rapidly treating acute migraine episodes. They are an oral pill that can be taken with other migraine drugs.\n",
    "\n",
    "\n",
    "The main classes of preventive treatment migraine drugs include:\n",
    "\n",
    "- **Antidepressants** also balance brain chemicals that play a role in migraine. Side effects vary depending on the drug.\n",
    "- **Anticonvulsants** are drugs that treat seizures through various effects on the brain. Common side effects include sleepiness and weight changes.\n",
    "- **Beta blockers.** Drugs in this class commonly treat high blood pressure. Dizziness, fatigue and nausea are common side effects.\n",
    "- **Botulinum toxins** are injected to prevent migraine in people with 15 or more headache days each month. Common side effects include headache, neck pain, and pain at the injection site.\n",
    "- **Monoclonal antibody CGRP blockers** are the first class of drugs specifically produced to prevent migraines. They block a molecule thought to instigate migraine and increase migraine pain and intensity. This drug is injected under the skin. Common side effects include redness at the injection site, constipation, or muscle spasms or cramps."
   ],
   "metadata": {}
  },
  {
   "cell_type": "markdown",
   "source": [
    "# Common Migraine Drugs\n",
    "\n",
    "- **Amitriptyline (Elavil)** is an antidepressant. The dosing ranges from once a day up to four times a day. It belongs to a group of antidepressants called tricyclics. Drowsiness and sleepiness are very common with this group, so your doctor may recommend taking it at bedtime.\n",
    "- **Divalproex sodium extended-release (Depakote ER)** is an anticonvulsant. You take the extended-release tablet once a day. Taking it with food can help prevent stomach upset.\n",
    "- **Eletriptan (Relpax)** is a triptan. It is a tablet you take at the onset of your migraine symptoms. For triptans, your doctor will tell you how many tablets you can take in a 24 hour period.\n",
    "- **Metoprolol (Lopressor, Toprol XL)** is a beta blocker. It comes in both an immediate-release and an extended-release form.\n",
    "- **Propranolol extended-release (Inderal, Inderal LA, Inderal XL)** is another beta blocker. It comes in several forms, each with their own dosing. Talk with your doctor or pharmacist about how to take your medicine.\n",
    "- **Rizatriptan (Maxalt)** is a triptan you use at the onset of symptoms. It comes as a tablet and a disintegrating tablet, which melts in your mouth without water.\n",
    "- **Sumatriptan (Imitrex)** is another triptan. It comes in several forms, including a tablet, injection, and nasal spray.\n",
    "- **Topiramate (Topamax, Trokendi XR)** is an anticonvulsant. It comes in a regular-release tablet and an extended-release capsule. You can take either kind with or without food.\n",
    "- **Venlafaxine (Effexor, Effexor XR)** is an antidepressant. You take both the tablet and the extended-release capsule with food. Stomach upset, headache, and appetite loss are common side effects.\n",
    "- **Zolmitriptan (Zomig)** is another triptan. It comes as a tablet, disintegrating table, and nasal spray.\n",
    "- **OnabotulinumtoxinA (Botox)** is a botulinum toxin that, when injected into areas of the face and scalp, can prevent the brain's pain response from activating. This stops migraine attacks before they occur.\n",
    "- **Erenumab (Aimovig)** is a CGRP blocker. It's given by self-injection once a month.\n"
   ],
   "metadata": {}
  },
  {
   "cell_type": "markdown",
   "source": [
    "# Find Posts/Comments that mention drugs\n",
    "\n",
    "The next step is to find post/comments that mention drugs.  We do that to narrow down our raw data to only posts and comments that are relevant.\n",
    "\n",
    "In order to do that we first create the list of medications and then filter out the irrelevant posts/comments leaving a list of dictionaries with the following fields:\n",
    "\n",
    "- Type - post/comment\n",
    "- Parent - for post it is its id and for comment it is id of its post\n",
    "- Author - author of the post/comment\n",
    "- Text - body of the post/comment\n",
    "- Title - title of the post/comment"
   ],
   "metadata": {}
  },
  {
   "cell_type": "code",
   "execution_count": null,
   "source": [
    "drug_list = [\n",
    "    'Amitriptyline',\n",
    "    'Elavil',\n",
    "    'Divalproex',\n",
    "    'Depakote',\n",
    "    'Eletriptan',\n",
    "    'Relpax',\n",
    "    'triptan',\n",
    "    'Metoprolol',\n",
    "    'Lopressor',\n",
    "    'Toprol',\n",
    "    'Propranolol',\n",
    "    'Inderal',\n",
    "    'beta blocker',\n",
    "    'Rizatriptan',\n",
    "    'Maxalt',\n",
    "    'Sumatriptan',\n",
    "    'Imitrex',\n",
    "    'Topiramate',\n",
    "    'Topamax',\n",
    "    'Trokendi',\n",
    "    'Venlafaxine',\n",
    "    'Effexor',\n",
    "    'Zolmitriptan',\n",
    "    'Zomig',\n",
    "    'OnabotulinumtoxinA',\n",
    "    'Botox',\n",
    "    'Erenumab',\n",
    "    'Aimovig',\n",
    "    'CGRP',\n",
    "    'Nurtec',  # found in the subreddit post\n",
    "    'Topomax'  # popular misspelling of Topamax\n",
    "]"
   ],
   "outputs": [],
   "metadata": {}
  },
  {
   "cell_type": "code",
   "execution_count": null,
   "source": [
    "posts_about_medicine = []\n",
    "medicine_set = set([drug.lower() for drug in drug_list])\n",
    "header = []\n",
    "\n",
    "def refrences_medicine(text):\n",
    "    tokenized_text = preprocess(text)\n",
    "    for token in tokenized_text:\n",
    "        if token in medicine_set:\n",
    "            return True\n",
    "    return False\n",
    "\n",
    "read_header = False\n",
    "with open(f'data/{migraine_file_name}', 'r') as csv_file:\n",
    "    csv_reader = csv.reader(csv_file)\n",
    "    for entry in csv_reader:\n",
    "        if not read_header:\n",
    "            header = entry\n",
    "            read_header = True\n",
    "        else:\n",
    "            if refrences_medicine(entry[header.index('Text')]):\n",
    "                posts_about_medicine.append({\n",
    "                    'Type': entry[header.index('Type')],\n",
    "                    'Parent': entry[header.index('Parent')],\n",
    "                    'Author': entry[header.index('Author')],\n",
    "                    'Text': entry[header.index('Text')],\n",
    "                    'Title': entry[header.index('Title')]\n",
    "                })\n",
    "\n",
    "print(len(posts_about_medicine))\n",
    "print(posts_about_medicine[:5])"
   ],
   "outputs": [],
   "metadata": {}
  },
  {
   "cell_type": "markdown",
   "source": [
    "```\n",
    "13162\n",
    "[{'Type': 'P', 'Parent': 'q1p2lt', 'Author': 'Sia-King', 'Text': 'Hey y’all, I got a referral for a neurologist and while I’m waiting on it, I’ve decided to trial another preventative. I’ve tried Topomax (was on it 2 weeks, couldn’t handle the side effects), currently on Sandomigran (been on it for 19 months, stopped working 9 months in but I continued w it because I didn’t want to accept it wasn’t working :sob: when it did work, it was bloody amazing. While I can increase the dosage for effectiveness, I can barely handle the fatigue it gives). \\n\\nI have asthma and take venlafaxine for depression &amp; anxiety btw. My GP said this means my options are more limited for preventatives. \\n\\nAny suggestions for preventatives?? I’ll check if my GP is happy to prescribe. TIA :))', 'Title': 'What preventative to trial next? (Asthmatic &amp; take venlafaxine)'}, {'Type': 'P', 'Parent': 'q1jrg6', 'Author': 'musiccolorthoughts', 'Text': \"I've been migraine free since March after starting ADHD meds. It's been a dream come true after suffering monthly for 10+ years. Due to some insurance issues, I couldn't make my last visit and get my meds refilled. I've gotten my first migraine in months, and I forgot just how awful it is. I cried and asked to be unalive. The triptan side effects suck. I never wanted to be here again and I can't stop crying. Just needed to rant.\", 'Title': 'Just upset'}, {'Type': 'P', 'Parent': 'q1h6f3', 'Author': 'JustCuriousAgain79', 'Text': 'Anyone else get uncontrollably angry when their pain is out of control. I’m basically off the amitriptyline but now my doctor wants to wait until my November appointment to start transitioning me onto anything else. I love my doc but I’m fucking pissed.\\n\\nMy vertigo has increased in severity and frequency, yay for almost everyday vertigo even when I’m laying completely still. Comes and goes but staying seated or lying is preferable. My pain meds are at least keeping me out of the ER but only just. I feel like utter crap and my mom can’t seem to comprehend that helping her rebuild the chicken coop while a necessary task is not one I can fucking do right now.\\n\\nMy youngest son’s (RE) wedding is this week (got married during Covid) and due to Covid and my medication issues I am not flying cross country to attend. And the expense since my disability only goes so far and I already traveled this summer to my daughters graduation. \\n\\nI’m just so fucking done right now. And if I have to hear my mom explain to my aunt how to do something that we’ve already explained 3 fucking times in the last 18 hours again I’m going to end up on a fucking episode of snapped.', 'Title': 'Pain and rage?'}, {'Type': 'P', 'Parent': 'q1elux', 'Author': 'OutlawCareBear', 'Text': \"I tried zolmitriptan a while ago, and I had a interesting reaction. Basically my pain went from 2/10 to 9/10 for a few hours and I couldn't really do anything but then after that I was pain free for 24ish hours? Anyone had something like this happen\", 'Title': 'Anyone had this happen with zolmitriptan?'}, {'Type': 'P', 'Parent': 'q1eexc', 'Author': 'burve_mcgregor', 'Text': 'Hi all, quick rundown: I\\'ve had atypical migraines for several years, they often last 2-3 days or ebb and flow over a few months with a random week here and there that feels normal then it comes back. Usually pairs with vertigo/sinus pressure and occasional intense head/behind eye pain.   \\n\\nSeeing a new neurologist, they got me on Rizatriptan to try and prevent( but it\\'s hard to catch it at the right time to help), magnesium and told me to take Aleve to manage pain. Got a call today that they want me to start taking Topomax/Topomine and I naturally did a search here and online and found mainly rather terrifying experiences. I understand that statistically these are probably in the minority but I\\'m still quite nervous about the \"normal\" side effect list. I requested an appointment to talk to her about this before I start any of it and I\\'m going in tomorrow. My migraine aren\\'t debilitating but they are life affecting. Can anyone share anything useful about this treatment route in terms of normal reactions vs abnormal side effects? It sounds like a very common drug so I assume most people aren\\'t losing their hair and getting lost and confused on a regular basis. \\n\\n&amp;#x200B;\\n\\nThanks in advance, this stuff is all a lot to process as I try and figure out what to do here.', 'Title': 'Topomax treatment questions'}]\n",
    "```"
   ],
   "metadata": {}
  },
  {
   "cell_type": "code",
   "execution_count": null,
   "source": [
    "for idx, entry in enumerate(posts_about_medicine):\n",
    "    print(entry['Text'])\n",
    "    print('--------------------------------')\n",
    "    if idx > 15:\n",
    "        break"
   ],
   "outputs": [],
   "metadata": {}
  },
  {
   "cell_type": "markdown",
   "source": [
    "```\n",
    "Hey y’all, I got a referral for a neurologist and while I’m waiting on it, I’ve decided to trial another preventative. I’ve tried Topomax (was on it 2 weeks, couldn’t handle the side effects), currently on Sandomigran (been on it for 19 months, stopped working 9 months in but I continued w it because I didn’t want to accept it wasn’t working :sob: when it did work, it was bloody amazing. While I can increase the dosage for effectiveness, I can barely handle the fatigue it gives). \n",
    "\n",
    "I have asthma and take venlafaxine for depression &amp; anxiety btw. My GP said this means my options are more limited for preventatives. \n",
    "\n",
    "Any suggestions for preventatives?? I’ll check if my GP is happy to prescribe. TIA :))\n",
    "--------------------------------\n",
    "I've been migraine free since March after starting ADHD meds. It's been a dream come true after suffering monthly for 10+ years. Due to some insurance issues, I couldn't make my last visit and get my meds refilled. I've gotten my first migraine in months, and I forgot just how awful it is. I cried and asked to be unalive. The triptan side effects suck. I never wanted to be here again and I can't stop crying. Just needed to rant.\n",
    "--------------------------------\n",
    "Anyone else get uncontrollably angry when their pain is out of control. I’m basically off the amitriptyline but now my doctor wants to wait until my November appointment to start transitioning me onto anything else. I love my doc but I’m fucking pissed.\n",
    "\n",
    "My vertigo has increased in severity and frequency, yay for almost everyday vertigo even when I’m laying completely still. Comes and goes but staying seated or lying is preferable. My pain meds are at least keeping me out of the ER but only just. I feel like utter crap and my mom can’t seem to comprehend that helping her rebuild the chicken coop while a necessary task is not one I can fucking do right now.\n",
    "\n",
    "My youngest son’s (RE) wedding is this week (got married during Covid) and due to Covid and my medication issues I am not flying cross country to attend. And the expense since my disability only goes so far and I already traveled this summer to my daughters graduation. \n",
    "\n",
    "I’m just so fucking done right now. And if I have to hear my mom explain to my aunt how to do something that we’ve already explained 3 fucking times in the last 18 hours again I’m going to end up on a fucking episode of snapped.\n",
    "--------------------------------\n",
    "I tried zolmitriptan a while ago, and I had a interesting reaction. Basically my pain went from 2/10 to 9/10 for a few hours and I couldn't really do anything but then after that I was pain free for 24ish hours? Anyone had something like this happen\n",
    "--------------------------------\n",
    "```"
   ],
   "metadata": {}
  },
  {
   "cell_type": "markdown",
   "source": [
    "# Aspect-Based Sentiment Analysis of Medicine\n",
    "\n",
    "This part is based on this [article](https://towardsdatascience.com/aspect-based-sentiment-analysis-using-spacy-textblob-4c8de3e0d2b9)\n"
   ],
   "metadata": {}
  },
  {
   "cell_type": "code",
   "execution_count": null,
   "source": [
    "import re\n",
    "\n",
    "def tokenize(text, space = True, wordchars = \"a-zA-Z0-9-'\"):\n",
    "    tokens = []\n",
    "    for token in re.split(\"([\"+wordchars+\"]+)\", text):\n",
    "        if not space:\n",
    "            token = re.sub(\"[ ]+\", \"\", token)\n",
    "        if not token:\n",
    "            continue\n",
    "        if re.search(\"[\"+wordchars+\"]\", token):\n",
    "            tokens.append(token)\n",
    "        else: \n",
    "            tokens.extend(token)\n",
    "    return tokens\n",
    "\n",
    "def sentokenize(text, space = True, delims = \".?!\", sentchars = \"a-zA-Z0-9-',;:\"):\n",
    "    sentences = []\n",
    "    \n",
    "    for sentence in re.split(\"(\\s*(?<=[\"+delims+\"][^\"+sentchars+\"])\\s*)\", text):\n",
    "        if not space:\n",
    "            sentence = re.sub(\"[ ]+\", \"\", sentence)\n",
    "        if not sentence:\n",
    "            continue\n",
    "        if re.search(\"[\"+sentchars+\"]\", sentence) or not len(sentences):\n",
    "            sentences.append(sentence)\n",
    "        else:\n",
    "            sentences[-1] + sentence\n",
    "\n",
    "    return sentences"
   ],
   "outputs": [],
   "metadata": {}
  },
  {
   "cell_type": "markdown",
   "source": [
    "# Process Posts into Sentences\n"
   ],
   "metadata": {}
  },
  {
   "cell_type": "code",
   "execution_count": null,
   "source": [
    "for post in posts_about_medicine:\n",
    "    post['Sentences'] = sentokenize(post['Text'])\n",
    "\n",
    "print(posts_about_medicine[:5])"
   ],
   "outputs": [],
   "metadata": {}
  },
  {
   "cell_type": "markdown",
   "source": [
    "```\n",
    "[{'Type': 'P', 'Parent': 'q1p2lt', 'Author': 'Sia-King', 'Text': 'Hey y’all, I got a referral for a neurologist and while I’m waiting on it, I’ve decided to trial another preventative. I’ve tried Topomax (was on it 2 weeks, couldn’t handle the side effects), currently on Sandomigran (been on it for 19 months, stopped working 9 months in but I continued w it because I didn’t want to accept it wasn’t working :sob: when it did work, it was bloody amazing. While I can increase the dosage for effectiveness, I can barely handle the fatigue it gives). \\n\\nI have asthma and take venlafaxine for depression &amp; anxiety btw. My GP said this means my options are more limited for preventatives. \\n\\nAny suggestions for preventatives?? I’ll check if my GP is happy to prescribe. TIA :))', 'Title': 'What preventative to trial next? (Asthmatic &amp; take venlafaxine)', 'Sentences': ['Hey y’all, I got a referral for a neurologist and while I’m waiting on it, I’ve decided to trial another preventative.', 'I’ve tried Topomax (was on it 2 weeks, couldn’t handle the side effects), currently on Sandomigran (been on it for 19 months, stopped working 9 months in but I continued w it because I didn’t want to accept it wasn’t working :sob: when it did work, it was bloody amazing.', 'While I can increase the dosage for effectiveness, I can barely handle the fatigue it gives).', 'I have asthma and take venlafaxine for depression &amp; anxiety btw.', 'My GP said this means my options are more limited for preventatives.', 'Any suggestions for preventatives??', 'I’ll check if my GP is happy to prescribe.', 'TIA :))']}, {'Type': 'P', 'Parent': 'q1jrg6', 'Author': 'musiccolorthoughts', 'Text': \"I've been migraine free since March after starting ADHD meds. It's been a dream come true after suffering monthly for 10+ years. Due to some insurance issues, I couldn't make my last visit and get my meds refilled. I've gotten my first migraine in months, and I forgot just how awful it is. I cried and asked to be unalive. The triptan side effects suck. I never wanted to be here again and I can't stop crying. Just needed to rant.\", 'Title': 'Just upset', 'Sentences': [\"I've been migraine free since March after starting ADHD meds.\", \"It's been a dream come true after suffering monthly for 10+ years.\", \"Due to some insurance issues, I couldn't make my last visit and get my meds refilled.\", \"I've gotten my first migraine in months, and I forgot just how awful it is.\", 'I cried and asked to be unalive.', 'The triptan side effects suck.', \"I never wanted to be here again and I can't stop crying.\", 'Just needed to rant.']}, {'Type': 'P', 'Parent': 'q1h6f3', 'Author': 'JustCuriousAgain79', 'Text': 'Anyone else get uncontrollably angry when their pain is out of control. I’m basically off the amitriptyline but now my doctor wants to wait until my November appointment to start transitioning me onto anything else. I love my doc but I’m fucking pissed.\\n\\nMy vertigo has increased in severity and frequency, yay for almost everyday vertigo even when I’m laying completely still. Comes and goes but staying seated or lying is preferable. My pain meds are at least keeping me out of the ER but only just. I feel like utter crap and my mom can’t seem to comprehend that helping her rebuild the chicken coop while a necessary task is not one I can fucking do right now.\\n\\nMy youngest son’s (RE) wedding is this week (got married during Covid) and due to Covid and my medication issues I am not flying cross country to attend. And the expense since my disability only goes so far and I already traveled this summer to my daughters graduation. \\n\\nI’m just so fucking done right now. And if I have to hear my mom explain to my aunt how to do something that we’ve already explained 3 fucking times in the last 18 hours again I’m going to end up on a fucking episode of snapped.', 'Title': 'Pain and rage?', 'Sentences': ['Anyone else get uncontrollably angry when their pain is out of control.', 'I’m basically off the amitriptyline but now my doctor wants to wait until my November appointment to start transitioning me onto anything else.', 'I love my doc but I’m fucking pissed.', 'My vertigo has increased in severity and frequency, yay for almost everyday vertigo even when I’m laying completely still.', 'Comes and goes but staying seated or lying is preferable.', 'My pain meds are at least keeping me out of the ER but only just.', 'I feel like utter crap and my mom can’t seem to comprehend that helping her rebuild the chicken coop while a necessary task is not one I can fucking do right now.', 'My youngest son’s (RE) wedding is this week (got married during Covid) and due to Covid and my medication issues I am not flying cross country to attend.', 'And the expense since my disability only goes so far and I already traveled this summer to my daughters graduation.', 'I’m just so fucking done right now.', 'And if I have to hear my mom explain to my aunt how to do something that we’ve already explained 3 fucking times in the last 18 hours again I’m going to end up on a fucking episode of snapped.']}, {'Type': 'P', 'Parent': 'q1elux', 'Author': 'OutlawCareBear', 'Text': \"I tried zolmitriptan a while ago, and I had a interesting reaction. Basically my pain went from 2/10 to 9/10 for a few hours and I couldn't really do anything but then after that I was pain free for 24ish hours? Anyone had something like this happen\", 'Title': 'Anyone had this happen with zolmitriptan?', 'Sentences': ['I tried zolmitriptan a while ago, and I had a interesting reaction.', \"Basically my pain went from 2/10 to 9/10 for a few hours and I couldn't really do anything but then after that I was pain free for 24ish hours?\", 'Anyone had something like this happen']}, {'Type': 'P', 'Parent': 'q1eexc', 'Author': 'burve_mcgregor', 'Text': 'Hi all, quick rundown: I\\'ve had atypical migraines for several years, they often last 2-3 days or ebb and flow over a few months with a random week here and there that feels normal then it comes back. Usually pairs with vertigo/sinus pressure and occasional intense head/behind eye pain.   \\n\\nSeeing a new neurologist, they got me on Rizatriptan to try and prevent( but it\\'s hard to catch it at the right time to help), magnesium and told me to take Aleve to manage pain. Got a call today that they want me to start taking Topomax/Topomine and I naturally did a search here and online and found mainly rather terrifying experiences. I understand that statistically these are probably in the minority but I\\'m still quite nervous about the \"normal\" side effect list. I requested an appointment to talk to her about this before I start any of it and I\\'m going in tomorrow. My migraine aren\\'t debilitating but they are life affecting. Can anyone share anything useful about this treatment route in terms of normal reactions vs abnormal side effects? It sounds like a very common drug so I assume most people aren\\'t losing their hair and getting lost and confused on a regular basis. \\n\\n&amp;#x200B;\\n\\nThanks in advance, this stuff is all a lot to process as I try and figure out what to do here.', 'Title': 'Topomax treatment questions', 'Sentences': [\"Hi all, quick rundown: I've had atypical migraines for several years, they often last 2-3 days or ebb and flow over a few months with a random week here and there that feels normal then it comes back.\", 'Usually pairs with vertigo/sinus pressure and occasional intense head/behind eye pain.', \"Seeing a new neurologist, they got me on Rizatriptan to try and prevent( but it's hard to catch it at the right time to help), magnesium and told me to take Aleve to manage pain.\", 'Got a call today that they want me to start taking Topomax/Topomine and I naturally did a search here and online and found mainly rather terrifying experiences.', 'I understand that statistically these are probably in the minority but I\\'m still quite nervous about the \"normal\" side effect list.', \"I requested an appointment to talk to her about this before I start any of it and I'm going in tomorrow.\", \"My migraine aren't debilitating but they are life affecting.\", 'Can anyone share anything useful about this treatment route in terms of normal reactions vs abnormal side effects?', \"It sounds like a very common drug so I assume most people aren't losing their hair and getting lost and confused on a regular basis.\", '&amp;#x200B;\\n\\nThanks in advance, this stuff is all a lot to process as I try and figure out what to do here.']}]\n",
    "```"
   ],
   "metadata": {}
  },
  {
   "cell_type": "markdown",
   "source": [
    "# Extract POS (Part Of Speech)\n"
   ],
   "metadata": {}
  },
  {
   "cell_type": "code",
   "execution_count": null,
   "source": [
    "import spacy\n",
    "nlp = spacy.load('en_core_web_sm')"
   ],
   "outputs": [],
   "metadata": {}
  },
  {
   "cell_type": "code",
   "execution_count": null,
   "source": [
    "for post in posts_about_medicine:\n",
    "    for sentence in post['Sentences']:\n",
    "        doc = nlp(sentence)\n",
    "        for token in doc:\n",
    "            print(\n",
    "                token.text,\n",
    "                token.dep_,\n",
    "                token.head.text,\n",
    "                token.head.pos_,\n",
    "                token.pos_,\n",
    "                [child for child in token.children])\n",
    "        print('--------------------------------')\n",
    "    break"
   ],
   "outputs": [],
   "metadata": {}
  },
  {
   "cell_type": "markdown",
   "source": [
    "```\n",
    "Hey intj got VERB INTJ []\n",
    "y’ npadvmod got VERB PRON [all]\n",
    "all appos y’ PRON DET []\n",
    ", punct got VERB PUNCT []\n",
    "I nsubj got VERB PRON []\n",
    "got ROOT got VERB VERB [Hey, y’, ,, I, referral, and, decided]\n",
    "a det referral NOUN DET []\n",
    "referral dobj got VERB NOUN [a, for]\n",
    "for prep referral NOUN ADP [neurologist]\n",
    "a det neurologist NOUN DET []\n",
    "neurologist pobj for ADP NOUN [a]\n",
    "and cc got VERB CCONJ []\n",
    "while mark waiting VERB SCONJ []\n",
    "I nsubj waiting VERB PRON []\n",
    "’m aux waiting VERB AUX []\n",
    "waiting advcl decided VERB VERB [while, I, ’m, on]\n",
    "on prep waiting VERB ADP [it]\n",
    "it pobj on ADP PRON []\n",
    ", punct decided VERB PUNCT []\n",
    "I nsubj decided VERB PRON []\n",
    "’ve aux decided VERB AUX []\n",
    "decided conj got VERB VERB [waiting, ,, I, ’ve, trial, .]\n",
    "to aux trial VERB PART []\n",
    "trial xcomp decided VERB VERB [to, preventative]\n",
    "another det preventative NOUN DET []\n",
    ". punct check VERB PUNCT []\n",
    "--------------------------------\n",
    "TIA ROOT TIA PROPN PROPN [:))]\n",
    ":)) punct TIA PROPN PROPN []\n",
    "--------------------------------\n",
    "```"
   ],
   "metadata": {}
  },
  {
   "cell_type": "markdown",
   "source": [
    "# Filter on Medication\n",
    "\n",
    "The above output is doing what we wanted but it is processing every single sentence so it is hard to make any sense of it.\n",
    "\n",
    "Here we will consider only sentences that have medicine name as `nsubj` and `dobj`.\n"
   ],
   "metadata": {}
  },
  {
   "cell_type": "code",
   "execution_count": null,
   "source": [
    "count = 0\n",
    "for post in posts_about_medicine:\n",
    "    show_delimiter = False\n",
    "    # for sentence in post['Sentences']:\n",
    "    doc = nlp(post['Text'])\n",
    "    for token in doc:\n",
    "        if (token.dep_ == 'nsubj' or token.dep_ == 'dobj') and token.text.lower() in medicine_set:\n",
    "            show_delimiter = True\n",
    "            count += 1\n",
    "            print(\n",
    "                token.text,\n",
    "                token.dep_,\n",
    "                token.head.text,\n",
    "                token.head.pos_,\n",
    "                token.pos_,\n",
    "                [child for child in token.children])\n",
    "        if token.pos_ == 'ADJ':\n",
    "            prepend = ''\n",
    "            for child in token.children:\n",
    "                if child.pos_ != 'ADV':\n",
    "                    continue\n",
    "                prepend += child.text + ' '\n",
    "            print(f'descriptive term: {prepend + str(token)}')\n",
    "    if show_delimiter:\n",
    "        print('--------------------------------')\n",
    "    if count > 100:\n",
    "        break"
   ],
   "outputs": [],
   "metadata": {}
  },
  {
   "cell_type": "markdown",
   "source": [
    "```\n",
    "Topomax dobj tried VERB PROPN []\n",
    "descriptive term: bloody\n",
    "descriptive term: amazing\n",
    "venlafaxine dobj take VERB NOUN []\n",
    "descriptive term: more limited\n",
    "descriptive term: happy\n",
    "--------------------------------\n",
    "descriptive term: migraine\n",
    "descriptive term: free\n",
    "descriptive term: true\n",
    "descriptive term: last\n",
    "descriptive term: first\n",
    "descriptive term: just how awful\n",
    "descriptive term: unalive\n",
    "descriptive term: triptan\n",
    "descriptive term: uncontrollably angry\n",
    "descriptive term: preferable\n",
    "descriptive term: least\n",
    "descriptive term: utter\n",
    "descriptive term: necessary\n",
    "descriptive term: youngest\n",
    "descriptive term: fucking\n",
    "descriptive term: last\n",
    "descriptive term: fucking\n",
    "zolmitriptan dobj tried VERB PROPN []\n",
    "rizatriptan dobj used VERB NOUN [my]\n",
    "rizatriptan dobj use VERB ADJ [my]\n",
    "descriptive term: rizatriptan\n",
    "descriptive term: less unique\n",
    "--------------------------------\n",
    "```"
   ],
   "metadata": {}
  },
  {
   "cell_type": "markdown",
   "source": [
    "# Conclusions\n",
    "\n",
    "We have a very rich and useful raw data in the form of text.  While this data contains great amount of information it is in text format and getting it into structured dataset will be a fun and challenging task.\n",
    "\n",
    "We performed number of manual analysis of samples of this data as well as some automated topic analysis.  We also run POC for getting more detailed information about the specific topic of migraine medications.  This allowed us to understand the potential and challenges of dealing with raw text.  For example, from medication analysis we learned that Spacy library is very useful in retrieving information from single sentence, however, most articles are not describing the medication in single sentence but rather couple sentences.  Now we understand that going forward we will need to create some regex based filters and other techniques to narrow down to just these sentences related to medication description.\n",
    "\n",
    "We also learned that we will need to use ensemble of techniques to retrieve information from the articles.  Some parts will focus on retrieving information on medications, others on author's gender, others on dosages, and so on to finally put all of that together in a simple structured data that can be easily represented and digested."
   ],
   "metadata": {}
  }
 ],
 "metadata": {
  "kernelspec": {
   "name": "python3",
   "display_name": "Python 3.9.0 64-bit ('migraine-data-reddit-WM5Df_6q-py3.9': poetry)"
  },
  "language_info": {
   "codemirror_mode": {
    "name": "ipython",
    "version": 3
   },
   "file_extension": ".py",
   "mimetype": "text/x-python",
   "name": "python",
   "nbconvert_exporter": "python",
   "pygments_lexer": "ipython3",
   "version": "3.9.0"
  },
  "interpreter": {
   "hash": "e2aeec2cf51c918189e26105d0d6d1405249743e1be845e15e5a859002a67bef"
  }
 },
 "nbformat": 4,
 "nbformat_minor": 2
}